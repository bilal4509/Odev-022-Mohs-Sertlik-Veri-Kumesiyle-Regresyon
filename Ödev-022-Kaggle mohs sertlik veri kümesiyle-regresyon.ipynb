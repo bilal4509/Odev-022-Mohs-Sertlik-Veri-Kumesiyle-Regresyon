{
 "cells": [
  {
   "cell_type": "raw",
   "metadata": {},
   "source": [
    "#Mohs Sertlik Veri Kümesiyle Regresyon\n",
    "#Mohs sertlik skalasına göre bir mineralin sertliğini bulmak için, sertliği bilinen mineral veya minerallerle,\n",
    "#sertliği saptanacak olan mineral birbirine sürtülür ve sertliği bilinmeyen mineralin hangi minerali çizdiği ve hangisiyle çizildiği belirlenir. Sonuçta bu işleme göre mineralin sertliği bulunmuş olur"
   ]
  },
  {
   "cell_type": "code",
   "execution_count": 24,
   "metadata": {
    "_cell_guid": "b1076dfc-b9ad-4769-8c92-a6c4dae69d19",
    "_uuid": "8f2839f25d086af736a60e9eeb907d3b93b6e0e5",
    "execution": {
     "iopub.execute_input": "2023-12-11T14:02:50.700394Z",
     "iopub.status.busy": "2023-12-11T14:02:50.699110Z",
     "iopub.status.idle": "2023-12-11T14:02:50.711410Z",
     "shell.execute_reply": "2023-12-11T14:02:50.709851Z",
     "shell.execute_reply.started": "2023-12-11T14:02:50.700349Z"
    }
   },
   "outputs": [
    {
     "name": "stdout",
     "output_type": "stream",
     "text": [
      "/kaggle/input/playground-series-s3e25/sample_submission.csv\n",
      "/kaggle/input/playground-series-s3e25/train.csv\n",
      "/kaggle/input/playground-series-s3e25/test.csv\n"
     ]
    }
   ],
   "source": [
    "# This Python 3 environment comes with many helpful analytics libraries installed\n",
    "# It is defined by the kaggle/python Docker image: https://github.com/kaggle/docker-python\n",
    "# For example, here's several helpful packages to load\n",
    "\n",
    "import numpy as np # linear algebra\n",
    "import pandas as pd # data processing, CSV file I/O (e.g. pd.read_csv)\n",
    "\n",
    "# Input data files are available in the read-only \"../input/\" directory\n",
    "# For example, running this (by clicking run or pressing Shift+Enter) will list all files under the input directory\n",
    "\n",
    "import os\n",
    "for dirname, _, filenames in os.walk('/kaggle/input'):\n",
    "    for filename in filenames:\n",
    "        print(os.path.join(dirname, filename))\n",
    "\n",
    "# You can write up to 20GB to the current directory (/kaggle/working/) that gets preserved as output when you create a version using \"Save & Run All\" \n",
    "# You can also write temporary files to /kaggle/temp/, but they won't be saved outside of the current session"
   ]
  },
  {
   "cell_type": "code",
   "execution_count": 25,
   "metadata": {
    "execution": {
     "iopub.execute_input": "2023-12-11T14:02:51.868394Z",
     "iopub.status.busy": "2023-12-11T14:02:51.867942Z",
     "iopub.status.idle": "2023-12-11T14:02:51.935077Z",
     "shell.execute_reply": "2023-12-11T14:02:51.933761Z",
     "shell.execute_reply.started": "2023-12-11T14:02:51.868358Z"
    }
   },
   "outputs": [],
   "source": [
    "# Reading csv files\n",
    "df1= pd.read_csv(\"/kaggle/input/playground-series-s3e25/train.csv\")\n",
    "df2= pd.read_csv(\"/kaggle/input/playground-series-s3e25/test.csv\")"
   ]
  },
  {
   "cell_type": "code",
   "execution_count": 26,
   "metadata": {
    "execution": {
     "iopub.execute_input": "2023-12-11T14:02:53.839473Z",
     "iopub.status.busy": "2023-12-11T14:02:53.838985Z",
     "iopub.status.idle": "2023-12-11T14:02:53.869522Z",
     "shell.execute_reply": "2023-12-11T14:02:53.868310Z",
     "shell.execute_reply.started": "2023-12-11T14:02:53.839435Z"
    }
   },
   "outputs": [
    {
     "data": {
      "text/html": [
       "<div>\n",
       "<style scoped>\n",
       "    .dataframe tbody tr th:only-of-type {\n",
       "        vertical-align: middle;\n",
       "    }\n",
       "\n",
       "    .dataframe tbody tr th {\n",
       "        vertical-align: top;\n",
       "    }\n",
       "\n",
       "    .dataframe thead th {\n",
       "        text-align: right;\n",
       "    }\n",
       "</style>\n",
       "<table border=\"1\" class=\"dataframe\">\n",
       "  <thead>\n",
       "    <tr style=\"text-align: right;\">\n",
       "      <th></th>\n",
       "      <th>id</th>\n",
       "      <th>allelectrons_Total</th>\n",
       "      <th>density_Total</th>\n",
       "      <th>allelectrons_Average</th>\n",
       "      <th>val_e_Average</th>\n",
       "      <th>atomicweight_Average</th>\n",
       "      <th>ionenergy_Average</th>\n",
       "      <th>el_neg_chi_Average</th>\n",
       "      <th>R_vdw_element_Average</th>\n",
       "      <th>R_cov_element_Average</th>\n",
       "      <th>zaratio_Average</th>\n",
       "      <th>density_Average</th>\n",
       "      <th>Hardness</th>\n",
       "    </tr>\n",
       "  </thead>\n",
       "  <tbody>\n",
       "    <tr>\n",
       "      <th>0</th>\n",
       "      <td>0</td>\n",
       "      <td>100.0</td>\n",
       "      <td>0.841611</td>\n",
       "      <td>10.0</td>\n",
       "      <td>4.8</td>\n",
       "      <td>20.612526</td>\n",
       "      <td>11.08810</td>\n",
       "      <td>2.766</td>\n",
       "      <td>1.732</td>\n",
       "      <td>0.860</td>\n",
       "      <td>0.496070</td>\n",
       "      <td>0.91457</td>\n",
       "      <td>6.0</td>\n",
       "    </tr>\n",
       "    <tr>\n",
       "      <th>1</th>\n",
       "      <td>1</td>\n",
       "      <td>100.0</td>\n",
       "      <td>7.558488</td>\n",
       "      <td>10.0</td>\n",
       "      <td>4.8</td>\n",
       "      <td>20.298893</td>\n",
       "      <td>12.04083</td>\n",
       "      <td>2.755</td>\n",
       "      <td>1.631</td>\n",
       "      <td>0.910</td>\n",
       "      <td>0.492719</td>\n",
       "      <td>0.71760</td>\n",
       "      <td>6.5</td>\n",
       "    </tr>\n",
       "    <tr>\n",
       "      <th>2</th>\n",
       "      <td>2</td>\n",
       "      <td>76.0</td>\n",
       "      <td>8.885992</td>\n",
       "      <td>15.6</td>\n",
       "      <td>5.6</td>\n",
       "      <td>33.739258</td>\n",
       "      <td>12.08630</td>\n",
       "      <td>2.828</td>\n",
       "      <td>1.788</td>\n",
       "      <td>0.864</td>\n",
       "      <td>0.481478</td>\n",
       "      <td>1.50633</td>\n",
       "      <td>2.5</td>\n",
       "    </tr>\n",
       "    <tr>\n",
       "      <th>3</th>\n",
       "      <td>3</td>\n",
       "      <td>100.0</td>\n",
       "      <td>8.795296</td>\n",
       "      <td>10.0</td>\n",
       "      <td>4.8</td>\n",
       "      <td>20.213349</td>\n",
       "      <td>10.94850</td>\n",
       "      <td>2.648</td>\n",
       "      <td>1.626</td>\n",
       "      <td>0.936</td>\n",
       "      <td>0.489272</td>\n",
       "      <td>0.78937</td>\n",
       "      <td>6.0</td>\n",
       "    </tr>\n",
       "    <tr>\n",
       "      <th>4</th>\n",
       "      <td>4</td>\n",
       "      <td>116.0</td>\n",
       "      <td>9.577996</td>\n",
       "      <td>11.6</td>\n",
       "      <td>4.8</td>\n",
       "      <td>24.988133</td>\n",
       "      <td>11.82448</td>\n",
       "      <td>2.766</td>\n",
       "      <td>1.682</td>\n",
       "      <td>0.896</td>\n",
       "      <td>0.492736</td>\n",
       "      <td>1.86481</td>\n",
       "      <td>6.0</td>\n",
       "    </tr>\n",
       "  </tbody>\n",
       "</table>\n",
       "</div>"
      ],
      "text/plain": [
       "   id  allelectrons_Total  density_Total  allelectrons_Average  val_e_Average  \\\n",
       "0   0               100.0       0.841611                  10.0            4.8   \n",
       "1   1               100.0       7.558488                  10.0            4.8   \n",
       "2   2                76.0       8.885992                  15.6            5.6   \n",
       "3   3               100.0       8.795296                  10.0            4.8   \n",
       "4   4               116.0       9.577996                  11.6            4.8   \n",
       "\n",
       "   atomicweight_Average  ionenergy_Average  el_neg_chi_Average  \\\n",
       "0             20.612526           11.08810               2.766   \n",
       "1             20.298893           12.04083               2.755   \n",
       "2             33.739258           12.08630               2.828   \n",
       "3             20.213349           10.94850               2.648   \n",
       "4             24.988133           11.82448               2.766   \n",
       "\n",
       "   R_vdw_element_Average  R_cov_element_Average  zaratio_Average  \\\n",
       "0                  1.732                  0.860         0.496070   \n",
       "1                  1.631                  0.910         0.492719   \n",
       "2                  1.788                  0.864         0.481478   \n",
       "3                  1.626                  0.936         0.489272   \n",
       "4                  1.682                  0.896         0.492736   \n",
       "\n",
       "   density_Average  Hardness  \n",
       "0          0.91457       6.0  \n",
       "1          0.71760       6.5  \n",
       "2          1.50633       2.5  \n",
       "3          0.78937       6.0  \n",
       "4          1.86481       6.0  "
      ]
     },
     "execution_count": 26,
     "metadata": {},
     "output_type": "execute_result"
    }
   ],
   "source": [
    "df1.head()"
   ]
  },
  {
   "cell_type": "code",
   "execution_count": 27,
   "metadata": {
    "execution": {
     "iopub.execute_input": "2023-12-11T14:02:56.566186Z",
     "iopub.status.busy": "2023-12-11T14:02:56.565718Z",
     "iopub.status.idle": "2023-12-11T14:02:56.589175Z",
     "shell.execute_reply": "2023-12-11T14:02:56.587589Z",
     "shell.execute_reply.started": "2023-12-11T14:02:56.566149Z"
    }
   },
   "outputs": [
    {
     "data": {
      "text/html": [
       "<div>\n",
       "<style scoped>\n",
       "    .dataframe tbody tr th:only-of-type {\n",
       "        vertical-align: middle;\n",
       "    }\n",
       "\n",
       "    .dataframe tbody tr th {\n",
       "        vertical-align: top;\n",
       "    }\n",
       "\n",
       "    .dataframe thead th {\n",
       "        text-align: right;\n",
       "    }\n",
       "</style>\n",
       "<table border=\"1\" class=\"dataframe\">\n",
       "  <thead>\n",
       "    <tr style=\"text-align: right;\">\n",
       "      <th></th>\n",
       "      <th>id</th>\n",
       "      <th>allelectrons_Total</th>\n",
       "      <th>density_Total</th>\n",
       "      <th>allelectrons_Average</th>\n",
       "      <th>val_e_Average</th>\n",
       "      <th>atomicweight_Average</th>\n",
       "      <th>ionenergy_Average</th>\n",
       "      <th>el_neg_chi_Average</th>\n",
       "      <th>R_vdw_element_Average</th>\n",
       "      <th>R_cov_element_Average</th>\n",
       "      <th>zaratio_Average</th>\n",
       "      <th>density_Average</th>\n",
       "    </tr>\n",
       "  </thead>\n",
       "  <tbody>\n",
       "    <tr>\n",
       "      <th>0</th>\n",
       "      <td>10407</td>\n",
       "      <td>884.0</td>\n",
       "      <td>121.420000</td>\n",
       "      <td>35.36</td>\n",
       "      <td>5.28</td>\n",
       "      <td>82.561240</td>\n",
       "      <td>9.370384</td>\n",
       "      <td>2.298</td>\n",
       "      <td>1.9072</td>\n",
       "      <td>1.200000</td>\n",
       "      <td>0.461899</td>\n",
       "      <td>1.79459</td>\n",
       "    </tr>\n",
       "    <tr>\n",
       "      <th>1</th>\n",
       "      <td>10408</td>\n",
       "      <td>90.0</td>\n",
       "      <td>9.931960</td>\n",
       "      <td>18.00</td>\n",
       "      <td>5.60</td>\n",
       "      <td>39.568056</td>\n",
       "      <td>12.086300</td>\n",
       "      <td>2.868</td>\n",
       "      <td>1.6520</td>\n",
       "      <td>0.864000</td>\n",
       "      <td>0.476196</td>\n",
       "      <td>1.41194</td>\n",
       "    </tr>\n",
       "    <tr>\n",
       "      <th>2</th>\n",
       "      <td>10409</td>\n",
       "      <td>116.0</td>\n",
       "      <td>7.767992</td>\n",
       "      <td>11.60</td>\n",
       "      <td>4.80</td>\n",
       "      <td>23.231818</td>\n",
       "      <td>11.023840</td>\n",
       "      <td>2.644</td>\n",
       "      <td>1.7940</td>\n",
       "      <td>0.960000</td>\n",
       "      <td>0.499514</td>\n",
       "      <td>0.78834</td>\n",
       "    </tr>\n",
       "    <tr>\n",
       "      <th>3</th>\n",
       "      <td>10410</td>\n",
       "      <td>100.0</td>\n",
       "      <td>9.107996</td>\n",
       "      <td>10.00</td>\n",
       "      <td>4.80</td>\n",
       "      <td>20.298893</td>\n",
       "      <td>12.086300</td>\n",
       "      <td>2.828</td>\n",
       "      <td>1.6620</td>\n",
       "      <td>0.792000</td>\n",
       "      <td>0.495796</td>\n",
       "      <td>1.20466</td>\n",
       "    </tr>\n",
       "    <tr>\n",
       "      <th>4</th>\n",
       "      <td>10411</td>\n",
       "      <td>55.0</td>\n",
       "      <td>4.030000</td>\n",
       "      <td>11.00</td>\n",
       "      <td>4.00</td>\n",
       "      <td>22.977675</td>\n",
       "      <td>11.280950</td>\n",
       "      <td>2.455</td>\n",
       "      <td>1.7500</td>\n",
       "      <td>0.893333</td>\n",
       "      <td>0.476095</td>\n",
       "      <td>0.93456</td>\n",
       "    </tr>\n",
       "  </tbody>\n",
       "</table>\n",
       "</div>"
      ],
      "text/plain": [
       "      id  allelectrons_Total  density_Total  allelectrons_Average  \\\n",
       "0  10407               884.0     121.420000                 35.36   \n",
       "1  10408                90.0       9.931960                 18.00   \n",
       "2  10409               116.0       7.767992                 11.60   \n",
       "3  10410               100.0       9.107996                 10.00   \n",
       "4  10411                55.0       4.030000                 11.00   \n",
       "\n",
       "   val_e_Average  atomicweight_Average  ionenergy_Average  el_neg_chi_Average  \\\n",
       "0           5.28             82.561240           9.370384               2.298   \n",
       "1           5.60             39.568056          12.086300               2.868   \n",
       "2           4.80             23.231818          11.023840               2.644   \n",
       "3           4.80             20.298893          12.086300               2.828   \n",
       "4           4.00             22.977675          11.280950               2.455   \n",
       "\n",
       "   R_vdw_element_Average  R_cov_element_Average  zaratio_Average  \\\n",
       "0                 1.9072               1.200000         0.461899   \n",
       "1                 1.6520               0.864000         0.476196   \n",
       "2                 1.7940               0.960000         0.499514   \n",
       "3                 1.6620               0.792000         0.495796   \n",
       "4                 1.7500               0.893333         0.476095   \n",
       "\n",
       "   density_Average  \n",
       "0          1.79459  \n",
       "1          1.41194  \n",
       "2          0.78834  \n",
       "3          1.20466  \n",
       "4          0.93456  "
      ]
     },
     "execution_count": 27,
     "metadata": {},
     "output_type": "execute_result"
    }
   ],
   "source": [
    "df2.head()"
   ]
  },
  {
   "cell_type": "code",
   "execution_count": 28,
   "metadata": {
    "execution": {
     "iopub.execute_input": "2023-12-11T14:03:00.575235Z",
     "iopub.status.busy": "2023-12-11T14:03:00.574757Z",
     "iopub.status.idle": "2023-12-11T14:03:00.584230Z",
     "shell.execute_reply": "2023-12-11T14:03:00.582899Z",
     "shell.execute_reply.started": "2023-12-11T14:03:00.575196Z"
    }
   },
   "outputs": [
    {
     "data": {
      "text/plain": [
       "((10407, 13), (6939, 12))"
      ]
     },
     "execution_count": 28,
     "metadata": {},
     "output_type": "execute_result"
    }
   ],
   "source": [
    "df1.shape,df2.shape"
   ]
  },
  {
   "cell_type": "code",
   "execution_count": null,
   "metadata": {},
   "outputs": [],
   "source": [
    "# test datasında Hardness sütunu yok bizim tahmin etmemiz isteniyor"
   ]
  },
  {
   "cell_type": "code",
   "execution_count": 29,
   "metadata": {
    "execution": {
     "iopub.execute_input": "2023-12-11T14:03:01.711886Z",
     "iopub.status.busy": "2023-12-11T14:03:01.711396Z",
     "iopub.status.idle": "2023-12-11T14:03:01.723169Z",
     "shell.execute_reply": "2023-12-11T14:03:01.721751Z",
     "shell.execute_reply.started": "2023-12-11T14:03:01.711838Z"
    }
   },
   "outputs": [
    {
     "data": {
      "text/plain": [
       "id                       0\n",
       "allelectrons_Total       0\n",
       "density_Total            0\n",
       "allelectrons_Average     0\n",
       "val_e_Average            0\n",
       "atomicweight_Average     0\n",
       "ionenergy_Average        0\n",
       "el_neg_chi_Average       0\n",
       "R_vdw_element_Average    0\n",
       "R_cov_element_Average    0\n",
       "zaratio_Average          0\n",
       "density_Average          0\n",
       "Hardness                 0\n",
       "dtype: int64"
      ]
     },
     "execution_count": 29,
     "metadata": {},
     "output_type": "execute_result"
    }
   ],
   "source": [
    "df1.isnull().sum()"
   ]
  },
  {
   "cell_type": "code",
   "execution_count": 30,
   "metadata": {
    "execution": {
     "iopub.execute_input": "2023-12-11T14:03:03.790842Z",
     "iopub.status.busy": "2023-12-11T14:03:03.790364Z",
     "iopub.status.idle": "2023-12-11T14:03:03.825168Z",
     "shell.execute_reply": "2023-12-11T14:03:03.823549Z",
     "shell.execute_reply.started": "2023-12-11T14:03:03.790782Z"
    }
   },
   "outputs": [
    {
     "data": {
      "text/html": [
       "<div>\n",
       "<style scoped>\n",
       "    .dataframe tbody tr th:only-of-type {\n",
       "        vertical-align: middle;\n",
       "    }\n",
       "\n",
       "    .dataframe tbody tr th {\n",
       "        vertical-align: top;\n",
       "    }\n",
       "\n",
       "    .dataframe thead th {\n",
       "        text-align: right;\n",
       "    }\n",
       "</style>\n",
       "<table border=\"1\" class=\"dataframe\">\n",
       "  <thead>\n",
       "    <tr style=\"text-align: right;\">\n",
       "      <th></th>\n",
       "      <th>id</th>\n",
       "      <th>allelectrons_Total</th>\n",
       "      <th>density_Total</th>\n",
       "      <th>allelectrons_Average</th>\n",
       "      <th>val_e_Average</th>\n",
       "      <th>atomicweight_Average</th>\n",
       "      <th>ionenergy_Average</th>\n",
       "      <th>el_neg_chi_Average</th>\n",
       "      <th>R_vdw_element_Average</th>\n",
       "      <th>R_cov_element_Average</th>\n",
       "      <th>zaratio_Average</th>\n",
       "      <th>density_Average</th>\n",
       "      <th>Hardness</th>\n",
       "    </tr>\n",
       "  </thead>\n",
       "  <tbody>\n",
       "    <tr>\n",
       "      <th>id</th>\n",
       "      <td>1.000000</td>\n",
       "      <td>-0.019038</td>\n",
       "      <td>-0.005849</td>\n",
       "      <td>0.001863</td>\n",
       "      <td>-0.003501</td>\n",
       "      <td>0.002035</td>\n",
       "      <td>-0.019492</td>\n",
       "      <td>-0.015554</td>\n",
       "      <td>-0.003115</td>\n",
       "      <td>0.003888</td>\n",
       "      <td>-0.013690</td>\n",
       "      <td>0.006337</td>\n",
       "      <td>-0.006989</td>\n",
       "    </tr>\n",
       "    <tr>\n",
       "      <th>allelectrons_Total</th>\n",
       "      <td>-0.019038</td>\n",
       "      <td>1.000000</td>\n",
       "      <td>0.616092</td>\n",
       "      <td>0.074725</td>\n",
       "      <td>0.071618</td>\n",
       "      <td>0.078489</td>\n",
       "      <td>0.034883</td>\n",
       "      <td>0.036897</td>\n",
       "      <td>0.038551</td>\n",
       "      <td>0.024420</td>\n",
       "      <td>0.031035</td>\n",
       "      <td>0.058067</td>\n",
       "      <td>-0.061687</td>\n",
       "    </tr>\n",
       "    <tr>\n",
       "      <th>density_Total</th>\n",
       "      <td>-0.005849</td>\n",
       "      <td>0.616092</td>\n",
       "      <td>1.000000</td>\n",
       "      <td>0.356399</td>\n",
       "      <td>0.083640</td>\n",
       "      <td>0.355614</td>\n",
       "      <td>-0.104870</td>\n",
       "      <td>-0.075535</td>\n",
       "      <td>0.202331</td>\n",
       "      <td>0.240787</td>\n",
       "      <td>-0.089792</td>\n",
       "      <td>0.336046</td>\n",
       "      <td>-0.161524</td>\n",
       "    </tr>\n",
       "    <tr>\n",
       "      <th>allelectrons_Average</th>\n",
       "      <td>0.001863</td>\n",
       "      <td>0.074725</td>\n",
       "      <td>0.356399</td>\n",
       "      <td>1.000000</td>\n",
       "      <td>0.004376</td>\n",
       "      <td>0.990660</td>\n",
       "      <td>-0.360046</td>\n",
       "      <td>-0.319413</td>\n",
       "      <td>0.550669</td>\n",
       "      <td>0.688680</td>\n",
       "      <td>-0.328973</td>\n",
       "      <td>0.803641</td>\n",
       "      <td>-0.400496</td>\n",
       "    </tr>\n",
       "    <tr>\n",
       "      <th>val_e_Average</th>\n",
       "      <td>-0.003501</td>\n",
       "      <td>0.071618</td>\n",
       "      <td>0.083640</td>\n",
       "      <td>0.004376</td>\n",
       "      <td>1.000000</td>\n",
       "      <td>0.001860</td>\n",
       "      <td>0.453901</td>\n",
       "      <td>0.550007</td>\n",
       "      <td>0.354538</td>\n",
       "      <td>0.189352</td>\n",
       "      <td>0.093854</td>\n",
       "      <td>-0.068899</td>\n",
       "      <td>0.161715</td>\n",
       "    </tr>\n",
       "    <tr>\n",
       "      <th>atomicweight_Average</th>\n",
       "      <td>0.002035</td>\n",
       "      <td>0.078489</td>\n",
       "      <td>0.355614</td>\n",
       "      <td>0.990660</td>\n",
       "      <td>0.001860</td>\n",
       "      <td>1.000000</td>\n",
       "      <td>-0.356640</td>\n",
       "      <td>-0.316053</td>\n",
       "      <td>0.529277</td>\n",
       "      <td>0.666165</td>\n",
       "      <td>-0.327459</td>\n",
       "      <td>0.796564</td>\n",
       "      <td>-0.402948</td>\n",
       "    </tr>\n",
       "    <tr>\n",
       "      <th>ionenergy_Average</th>\n",
       "      <td>-0.019492</td>\n",
       "      <td>0.034883</td>\n",
       "      <td>-0.104870</td>\n",
       "      <td>-0.360046</td>\n",
       "      <td>0.453901</td>\n",
       "      <td>-0.356640</td>\n",
       "      <td>1.000000</td>\n",
       "      <td>0.774050</td>\n",
       "      <td>0.078650</td>\n",
       "      <td>-0.235344</td>\n",
       "      <td>0.638616</td>\n",
       "      <td>-0.359735</td>\n",
       "      <td>0.203203</td>\n",
       "    </tr>\n",
       "    <tr>\n",
       "      <th>el_neg_chi_Average</th>\n",
       "      <td>-0.015554</td>\n",
       "      <td>0.036897</td>\n",
       "      <td>-0.075535</td>\n",
       "      <td>-0.319413</td>\n",
       "      <td>0.550007</td>\n",
       "      <td>-0.316053</td>\n",
       "      <td>0.774050</td>\n",
       "      <td>1.000000</td>\n",
       "      <td>0.121926</td>\n",
       "      <td>-0.174485</td>\n",
       "      <td>0.441195</td>\n",
       "      <td>-0.322099</td>\n",
       "      <td>0.290352</td>\n",
       "    </tr>\n",
       "    <tr>\n",
       "      <th>R_vdw_element_Average</th>\n",
       "      <td>-0.003115</td>\n",
       "      <td>0.038551</td>\n",
       "      <td>0.202331</td>\n",
       "      <td>0.550669</td>\n",
       "      <td>0.354538</td>\n",
       "      <td>0.529277</td>\n",
       "      <td>0.078650</td>\n",
       "      <td>0.121926</td>\n",
       "      <td>1.000000</td>\n",
       "      <td>0.811823</td>\n",
       "      <td>0.002984</td>\n",
       "      <td>0.439990</td>\n",
       "      <td>-0.061402</td>\n",
       "    </tr>\n",
       "    <tr>\n",
       "      <th>R_cov_element_Average</th>\n",
       "      <td>0.003888</td>\n",
       "      <td>0.024420</td>\n",
       "      <td>0.240787</td>\n",
       "      <td>0.688680</td>\n",
       "      <td>0.189352</td>\n",
       "      <td>0.666165</td>\n",
       "      <td>-0.235344</td>\n",
       "      <td>-0.174485</td>\n",
       "      <td>0.811823</td>\n",
       "      <td>1.000000</td>\n",
       "      <td>-0.221164</td>\n",
       "      <td>0.571741</td>\n",
       "      <td>-0.189111</td>\n",
       "    </tr>\n",
       "    <tr>\n",
       "      <th>zaratio_Average</th>\n",
       "      <td>-0.013690</td>\n",
       "      <td>0.031035</td>\n",
       "      <td>-0.089792</td>\n",
       "      <td>-0.328973</td>\n",
       "      <td>0.093854</td>\n",
       "      <td>-0.327459</td>\n",
       "      <td>0.638616</td>\n",
       "      <td>0.441195</td>\n",
       "      <td>0.002984</td>\n",
       "      <td>-0.221164</td>\n",
       "      <td>1.000000</td>\n",
       "      <td>-0.306644</td>\n",
       "      <td>0.055248</td>\n",
       "    </tr>\n",
       "    <tr>\n",
       "      <th>density_Average</th>\n",
       "      <td>0.006337</td>\n",
       "      <td>0.058067</td>\n",
       "      <td>0.336046</td>\n",
       "      <td>0.803641</td>\n",
       "      <td>-0.068899</td>\n",
       "      <td>0.796564</td>\n",
       "      <td>-0.359735</td>\n",
       "      <td>-0.322099</td>\n",
       "      <td>0.439990</td>\n",
       "      <td>0.571741</td>\n",
       "      <td>-0.306644</td>\n",
       "      <td>1.000000</td>\n",
       "      <td>-0.360780</td>\n",
       "    </tr>\n",
       "    <tr>\n",
       "      <th>Hardness</th>\n",
       "      <td>-0.006989</td>\n",
       "      <td>-0.061687</td>\n",
       "      <td>-0.161524</td>\n",
       "      <td>-0.400496</td>\n",
       "      <td>0.161715</td>\n",
       "      <td>-0.402948</td>\n",
       "      <td>0.203203</td>\n",
       "      <td>0.290352</td>\n",
       "      <td>-0.061402</td>\n",
       "      <td>-0.189111</td>\n",
       "      <td>0.055248</td>\n",
       "      <td>-0.360780</td>\n",
       "      <td>1.000000</td>\n",
       "    </tr>\n",
       "  </tbody>\n",
       "</table>\n",
       "</div>"
      ],
      "text/plain": [
       "                             id  allelectrons_Total  density_Total  \\\n",
       "id                     1.000000           -0.019038      -0.005849   \n",
       "allelectrons_Total    -0.019038            1.000000       0.616092   \n",
       "density_Total         -0.005849            0.616092       1.000000   \n",
       "allelectrons_Average   0.001863            0.074725       0.356399   \n",
       "val_e_Average         -0.003501            0.071618       0.083640   \n",
       "atomicweight_Average   0.002035            0.078489       0.355614   \n",
       "ionenergy_Average     -0.019492            0.034883      -0.104870   \n",
       "el_neg_chi_Average    -0.015554            0.036897      -0.075535   \n",
       "R_vdw_element_Average -0.003115            0.038551       0.202331   \n",
       "R_cov_element_Average  0.003888            0.024420       0.240787   \n",
       "zaratio_Average       -0.013690            0.031035      -0.089792   \n",
       "density_Average        0.006337            0.058067       0.336046   \n",
       "Hardness              -0.006989           -0.061687      -0.161524   \n",
       "\n",
       "                       allelectrons_Average  val_e_Average  \\\n",
       "id                                 0.001863      -0.003501   \n",
       "allelectrons_Total                 0.074725       0.071618   \n",
       "density_Total                      0.356399       0.083640   \n",
       "allelectrons_Average               1.000000       0.004376   \n",
       "val_e_Average                      0.004376       1.000000   \n",
       "atomicweight_Average               0.990660       0.001860   \n",
       "ionenergy_Average                 -0.360046       0.453901   \n",
       "el_neg_chi_Average                -0.319413       0.550007   \n",
       "R_vdw_element_Average              0.550669       0.354538   \n",
       "R_cov_element_Average              0.688680       0.189352   \n",
       "zaratio_Average                   -0.328973       0.093854   \n",
       "density_Average                    0.803641      -0.068899   \n",
       "Hardness                          -0.400496       0.161715   \n",
       "\n",
       "                       atomicweight_Average  ionenergy_Average  \\\n",
       "id                                 0.002035          -0.019492   \n",
       "allelectrons_Total                 0.078489           0.034883   \n",
       "density_Total                      0.355614          -0.104870   \n",
       "allelectrons_Average               0.990660          -0.360046   \n",
       "val_e_Average                      0.001860           0.453901   \n",
       "atomicweight_Average               1.000000          -0.356640   \n",
       "ionenergy_Average                 -0.356640           1.000000   \n",
       "el_neg_chi_Average                -0.316053           0.774050   \n",
       "R_vdw_element_Average              0.529277           0.078650   \n",
       "R_cov_element_Average              0.666165          -0.235344   \n",
       "zaratio_Average                   -0.327459           0.638616   \n",
       "density_Average                    0.796564          -0.359735   \n",
       "Hardness                          -0.402948           0.203203   \n",
       "\n",
       "                       el_neg_chi_Average  R_vdw_element_Average  \\\n",
       "id                              -0.015554              -0.003115   \n",
       "allelectrons_Total               0.036897               0.038551   \n",
       "density_Total                   -0.075535               0.202331   \n",
       "allelectrons_Average            -0.319413               0.550669   \n",
       "val_e_Average                    0.550007               0.354538   \n",
       "atomicweight_Average            -0.316053               0.529277   \n",
       "ionenergy_Average                0.774050               0.078650   \n",
       "el_neg_chi_Average               1.000000               0.121926   \n",
       "R_vdw_element_Average            0.121926               1.000000   \n",
       "R_cov_element_Average           -0.174485               0.811823   \n",
       "zaratio_Average                  0.441195               0.002984   \n",
       "density_Average                 -0.322099               0.439990   \n",
       "Hardness                         0.290352              -0.061402   \n",
       "\n",
       "                       R_cov_element_Average  zaratio_Average  \\\n",
       "id                                  0.003888        -0.013690   \n",
       "allelectrons_Total                  0.024420         0.031035   \n",
       "density_Total                       0.240787        -0.089792   \n",
       "allelectrons_Average                0.688680        -0.328973   \n",
       "val_e_Average                       0.189352         0.093854   \n",
       "atomicweight_Average                0.666165        -0.327459   \n",
       "ionenergy_Average                  -0.235344         0.638616   \n",
       "el_neg_chi_Average                 -0.174485         0.441195   \n",
       "R_vdw_element_Average               0.811823         0.002984   \n",
       "R_cov_element_Average               1.000000        -0.221164   \n",
       "zaratio_Average                    -0.221164         1.000000   \n",
       "density_Average                     0.571741        -0.306644   \n",
       "Hardness                           -0.189111         0.055248   \n",
       "\n",
       "                       density_Average  Hardness  \n",
       "id                            0.006337 -0.006989  \n",
       "allelectrons_Total            0.058067 -0.061687  \n",
       "density_Total                 0.336046 -0.161524  \n",
       "allelectrons_Average          0.803641 -0.400496  \n",
       "val_e_Average                -0.068899  0.161715  \n",
       "atomicweight_Average          0.796564 -0.402948  \n",
       "ionenergy_Average            -0.359735  0.203203  \n",
       "el_neg_chi_Average           -0.322099  0.290352  \n",
       "R_vdw_element_Average         0.439990 -0.061402  \n",
       "R_cov_element_Average         0.571741 -0.189111  \n",
       "zaratio_Average              -0.306644  0.055248  \n",
       "density_Average               1.000000 -0.360780  \n",
       "Hardness                     -0.360780  1.000000  "
      ]
     },
     "execution_count": 30,
     "metadata": {},
     "output_type": "execute_result"
    }
   ],
   "source": [
    "df1.corr()"
   ]
  },
  {
   "cell_type": "code",
   "execution_count": 31,
   "metadata": {
    "execution": {
     "iopub.execute_input": "2023-12-11T14:03:05.103004Z",
     "iopub.status.busy": "2023-12-11T14:03:05.102403Z",
     "iopub.status.idle": "2023-12-11T14:03:05.109595Z",
     "shell.execute_reply": "2023-12-11T14:03:05.108068Z",
     "shell.execute_reply.started": "2023-12-11T14:03:05.102954Z"
    }
   },
   "outputs": [],
   "source": [
    "import matplotlib.pyplot as plt"
   ]
  },
  {
   "cell_type": "code",
   "execution_count": 32,
   "metadata": {
    "execution": {
     "iopub.execute_input": "2023-12-11T14:03:06.162035Z",
     "iopub.status.busy": "2023-12-11T14:03:06.161122Z",
     "iopub.status.idle": "2023-12-11T14:03:06.166880Z",
     "shell.execute_reply": "2023-12-11T14:03:06.165609Z",
     "shell.execute_reply.started": "2023-12-11T14:03:06.161993Z"
    }
   },
   "outputs": [],
   "source": [
    "import seaborn as sns"
   ]
  },
  {
   "cell_type": "code",
   "execution_count": 33,
   "metadata": {
    "execution": {
     "iopub.execute_input": "2023-12-11T14:03:06.870696Z",
     "iopub.status.busy": "2023-12-11T14:03:06.870243Z",
     "iopub.status.idle": "2023-12-11T14:03:08.093499Z",
     "shell.execute_reply": "2023-12-11T14:03:08.092068Z",
     "shell.execute_reply.started": "2023-12-11T14:03:06.870659Z"
    }
   },
   "outputs": [
    {
     "data": {
      "text/plain": [
       "<Axes: >"
      ]
     },
     "execution_count": 33,
     "metadata": {},
     "output_type": "execute_result"
    },
    {
     "data": {
      "image/png": "[encoded data removed]",
      "text/plain": [
       "<Figure size 1500x1500 with 2 Axes>"
      ]
     },
     "metadata": {},
     "output_type": "display_data"
    }
   ],
   "source": [
    "ax=plt.figure(figsize=(15,15));\n",
    "sns.heatmap(df.corr(numeric_only=True),annot=True)"
   ]
  },
  {
   "cell_type": "code",
   "execution_count": 34,
   "metadata": {
    "execution": {
     "iopub.execute_input": "2023-12-11T14:03:08.523992Z",
     "iopub.status.busy": "2023-12-11T14:03:08.523534Z",
     "iopub.status.idle": "2023-12-11T14:03:08.534155Z",
     "shell.execute_reply": "2023-12-11T14:03:08.533159Z",
     "shell.execute_reply.started": "2023-12-11T14:03:08.523955Z"
    }
   },
   "outputs": [
    {
     "data": {
      "text/plain": [
       "id                       0\n",
       "allelectrons_Total       0\n",
       "density_Total            0\n",
       "allelectrons_Average     0\n",
       "val_e_Average            0\n",
       "atomicweight_Average     0\n",
       "ionenergy_Average        0\n",
       "el_neg_chi_Average       0\n",
       "R_vdw_element_Average    0\n",
       "R_cov_element_Average    0\n",
       "zaratio_Average          0\n",
       "density_Average          0\n",
       "dtype: int64"
      ]
     },
     "execution_count": 34,
     "metadata": {},
     "output_type": "execute_result"
    }
   ],
   "source": [
    "df2.isnull().sum()"
   ]
  },
  {
   "cell_type": "code",
   "execution_count": 35,
   "metadata": {
    "execution": {
     "iopub.execute_input": "2023-12-11T14:03:16.393616Z",
     "iopub.status.busy": "2023-12-11T14:03:16.392970Z",
     "iopub.status.idle": "2023-12-11T14:03:16.398325Z",
     "shell.execute_reply": "2023-12-11T14:03:16.397052Z",
     "shell.execute_reply.started": "2023-12-11T14:03:16.393580Z"
    }
   },
   "outputs": [],
   "source": [
    "#Her iki datada da boş veri bulunmuyor"
   ]
  },
  {
   "cell_type": "code",
   "execution_count": 36,
   "metadata": {
    "execution": {
     "iopub.execute_input": "2023-12-11T14:03:21.705966Z",
     "iopub.status.busy": "2023-12-11T14:03:21.705075Z",
     "iopub.status.idle": "2023-12-11T14:03:21.720451Z",
     "shell.execute_reply": "2023-12-11T14:03:21.719308Z",
     "shell.execute_reply.started": "2023-12-11T14:03:21.705921Z"
    }
   },
   "outputs": [
    {
     "name": "stdout",
     "output_type": "stream",
     "text": [
      "<class 'pandas.core.frame.DataFrame'>\n",
      "RangeIndex: 10407 entries, 0 to 10406\n",
      "Data columns (total 13 columns):\n",
      " #   Column                 Non-Null Count  Dtype  \n",
      "---  ------                 --------------  -----  \n",
      " 0   id                     10407 non-null  int64  \n",
      " 1   allelectrons_Total     10407 non-null  float64\n",
      " 2   density_Total          10407 non-null  float64\n",
      " 3   allelectrons_Average   10407 non-null  float64\n",
      " 4   val_e_Average          10407 non-null  float64\n",
      " 5   atomicweight_Average   10407 non-null  float64\n",
      " 6   ionenergy_Average      10407 non-null  float64\n",
      " 7   el_neg_chi_Average     10407 non-null  float64\n",
      " 8   R_vdw_element_Average  10407 non-null  float64\n",
      " 9   R_cov_element_Average  10407 non-null  float64\n",
      " 10  zaratio_Average        10407 non-null  float64\n",
      " 11  density_Average        10407 non-null  float64\n",
      " 12  Hardness               10407 non-null  float64\n",
      "dtypes: float64(12), int64(1)\n",
      "memory usage: 1.0 MB\n"
     ]
    }
   ],
   "source": [
    "df1.info()"
   ]
  },
  {
   "cell_type": "code",
   "execution_count": 37,
   "metadata": {
    "execution": {
     "iopub.execute_input": "2023-12-11T14:03:21.979794Z",
     "iopub.status.busy": "2023-12-11T14:03:21.979352Z",
     "iopub.status.idle": "2023-12-11T14:03:21.994945Z",
     "shell.execute_reply": "2023-12-11T14:03:21.993543Z",
     "shell.execute_reply.started": "2023-12-11T14:03:21.979759Z"
    }
   },
   "outputs": [
    {
     "name": "stdout",
     "output_type": "stream",
     "text": [
      "<class 'pandas.core.frame.DataFrame'>\n",
      "RangeIndex: 6939 entries, 0 to 6938\n",
      "Data columns (total 12 columns):\n",
      " #   Column                 Non-Null Count  Dtype  \n",
      "---  ------                 --------------  -----  \n",
      " 0   id                     6939 non-null   int64  \n",
      " 1   allelectrons_Total     6939 non-null   float64\n",
      " 2   density_Total          6939 non-null   float64\n",
      " 3   allelectrons_Average   6939 non-null   float64\n",
      " 4   val_e_Average          6939 non-null   float64\n",
      " 5   atomicweight_Average   6939 non-null   float64\n",
      " 6   ionenergy_Average      6939 non-null   float64\n",
      " 7   el_neg_chi_Average     6939 non-null   float64\n",
      " 8   R_vdw_element_Average  6939 non-null   float64\n",
      " 9   R_cov_element_Average  6939 non-null   float64\n",
      " 10  zaratio_Average        6939 non-null   float64\n",
      " 11  density_Average        6939 non-null   float64\n",
      "dtypes: float64(11), int64(1)\n",
      "memory usage: 650.7 KB\n"
     ]
    }
   ],
   "source": [
    "df2.info()"
   ]
  },
  {
   "cell_type": "code",
   "execution_count": 38,
   "metadata": {
    "execution": {
     "iopub.execute_input": "2023-12-11T14:03:26.270946Z",
     "iopub.status.busy": "2023-12-11T14:03:26.270440Z",
     "iopub.status.idle": "2023-12-11T14:03:26.277162Z",
     "shell.execute_reply": "2023-12-11T14:03:26.275740Z",
     "shell.execute_reply.started": "2023-12-11T14:03:26.270907Z"
    }
   },
   "outputs": [],
   "source": [
    "# DRY Dont repeat yuorself-Bir işi iki sefer yapma"
   ]
  },
  {
   "cell_type": "code",
   "execution_count": 39,
   "metadata": {
    "execution": {
     "iopub.execute_input": "2023-12-11T14:03:26.696793Z",
     "iopub.status.busy": "2023-12-11T14:03:26.696354Z",
     "iopub.status.idle": "2023-12-11T14:03:26.705717Z",
     "shell.execute_reply": "2023-12-11T14:03:26.704286Z",
     "shell.execute_reply.started": "2023-12-11T14:03:26.696756Z"
    }
   },
   "outputs": [
    {
     "data": {
      "text/plain": [
       "((10407, 13), (6939, 12))"
      ]
     },
     "execution_count": 39,
     "metadata": {},
     "output_type": "execute_result"
    }
   ],
   "source": [
    "df1.shape,df2.shape\n",
    "\n",
    "#df2  df1 e göre 1 tane eksik. bziden bunu tahmin etmemiz isteniyor"
   ]
  },
  {
   "cell_type": "code",
   "execution_count": 41,
   "metadata": {
    "execution": {
     "iopub.execute_input": "2023-12-11T14:04:54.793287Z",
     "iopub.status.busy": "2023-12-11T14:04:54.792776Z",
     "iopub.status.idle": "2023-12-11T14:04:54.800848Z",
     "shell.execute_reply": "2023-12-11T14:04:54.799477Z",
     "shell.execute_reply.started": "2023-12-11T14:04:54.793243Z"
    }
   },
   "outputs": [],
   "source": [
    "x=df1.drop('Hardness',axis=1)\n",
    "y=df1['Hardness']"
   ]
  },
  {
   "cell_type": "code",
   "execution_count": 42,
   "metadata": {
    "execution": {
     "iopub.execute_input": "2023-12-11T14:05:12.836989Z",
     "iopub.status.busy": "2023-12-11T14:05:12.836287Z",
     "iopub.status.idle": "2023-12-11T14:05:12.844335Z",
     "shell.execute_reply": "2023-12-11T14:05:12.843186Z",
     "shell.execute_reply.started": "2023-12-11T14:05:12.836947Z"
    }
   },
   "outputs": [],
   "source": [
    "x=pd.get_dummies(x,drop_first=True)\n",
    "\n",
    "#sözel verileri sayısal veriye çevirdik"
   ]
  },
  {
   "cell_type": "code",
   "execution_count": 95,
   "metadata": {
    "execution": {
     "iopub.execute_input": "2023-12-11T14:43:46.588666Z",
     "iopub.status.busy": "2023-12-11T14:43:46.586457Z",
     "iopub.status.idle": "2023-12-11T14:43:46.605228Z",
     "shell.execute_reply": "2023-12-11T14:43:46.603789Z",
     "shell.execute_reply.started": "2023-12-11T14:43:46.588565Z"
    }
   },
   "outputs": [],
   "source": [
    "x.drop([\"id\"],axis=1,inplace=True)"
   ]
  },
  {
   "cell_type": "code",
   "execution_count": 96,
   "metadata": {
    "execution": {
     "iopub.execute_input": "2023-12-11T14:43:52.000377Z",
     "iopub.status.busy": "2023-12-11T14:43:51.999929Z",
     "iopub.status.idle": "2023-12-11T14:43:52.030446Z",
     "shell.execute_reply": "2023-12-11T14:43:52.029249Z",
     "shell.execute_reply.started": "2023-12-11T14:43:52.000343Z"
    }
   },
   "outputs": [
    {
     "data": {
      "text/html": [
       "<div>\n",
       "<style scoped>\n",
       "    .dataframe tbody tr th:only-of-type {\n",
       "        vertical-align: middle;\n",
       "    }\n",
       "\n",
       "    .dataframe tbody tr th {\n",
       "        vertical-align: top;\n",
       "    }\n",
       "\n",
       "    .dataframe thead th {\n",
       "        text-align: right;\n",
       "    }\n",
       "</style>\n",
       "<table border=\"1\" class=\"dataframe\">\n",
       "  <thead>\n",
       "    <tr style=\"text-align: right;\">\n",
       "      <th></th>\n",
       "      <th>allelectrons_Total</th>\n",
       "      <th>density_Total</th>\n",
       "      <th>allelectrons_Average</th>\n",
       "      <th>val_e_Average</th>\n",
       "      <th>atomicweight_Average</th>\n",
       "      <th>ionenergy_Average</th>\n",
       "      <th>el_neg_chi_Average</th>\n",
       "      <th>R_vdw_element_Average</th>\n",
       "      <th>R_cov_element_Average</th>\n",
       "      <th>zaratio_Average</th>\n",
       "      <th>density_Average</th>\n",
       "    </tr>\n",
       "  </thead>\n",
       "  <tbody>\n",
       "    <tr>\n",
       "      <th>0</th>\n",
       "      <td>100.0</td>\n",
       "      <td>0.841611</td>\n",
       "      <td>10.000000</td>\n",
       "      <td>4.800000</td>\n",
       "      <td>20.612526</td>\n",
       "      <td>11.088100</td>\n",
       "      <td>2.766000</td>\n",
       "      <td>1.732000</td>\n",
       "      <td>0.860000</td>\n",
       "      <td>0.496070</td>\n",
       "      <td>0.91457</td>\n",
       "    </tr>\n",
       "    <tr>\n",
       "      <th>1</th>\n",
       "      <td>100.0</td>\n",
       "      <td>7.558488</td>\n",
       "      <td>10.000000</td>\n",
       "      <td>4.800000</td>\n",
       "      <td>20.298893</td>\n",
       "      <td>12.040830</td>\n",
       "      <td>2.755000</td>\n",
       "      <td>1.631000</td>\n",
       "      <td>0.910000</td>\n",
       "      <td>0.492719</td>\n",
       "      <td>0.71760</td>\n",
       "    </tr>\n",
       "    <tr>\n",
       "      <th>2</th>\n",
       "      <td>76.0</td>\n",
       "      <td>8.885992</td>\n",
       "      <td>15.600000</td>\n",
       "      <td>5.600000</td>\n",
       "      <td>33.739258</td>\n",
       "      <td>12.086300</td>\n",
       "      <td>2.828000</td>\n",
       "      <td>1.788000</td>\n",
       "      <td>0.864000</td>\n",
       "      <td>0.481478</td>\n",
       "      <td>1.50633</td>\n",
       "    </tr>\n",
       "    <tr>\n",
       "      <th>3</th>\n",
       "      <td>100.0</td>\n",
       "      <td>8.795296</td>\n",
       "      <td>10.000000</td>\n",
       "      <td>4.800000</td>\n",
       "      <td>20.213349</td>\n",
       "      <td>10.948500</td>\n",
       "      <td>2.648000</td>\n",
       "      <td>1.626000</td>\n",
       "      <td>0.936000</td>\n",
       "      <td>0.489272</td>\n",
       "      <td>0.78937</td>\n",
       "    </tr>\n",
       "    <tr>\n",
       "      <th>4</th>\n",
       "      <td>116.0</td>\n",
       "      <td>9.577996</td>\n",
       "      <td>11.600000</td>\n",
       "      <td>4.800000</td>\n",
       "      <td>24.988133</td>\n",
       "      <td>11.824480</td>\n",
       "      <td>2.766000</td>\n",
       "      <td>1.682000</td>\n",
       "      <td>0.896000</td>\n",
       "      <td>0.492736</td>\n",
       "      <td>1.86481</td>\n",
       "    </tr>\n",
       "    <tr>\n",
       "      <th>...</th>\n",
       "      <td>...</td>\n",
       "      <td>...</td>\n",
       "      <td>...</td>\n",
       "      <td>...</td>\n",
       "      <td>...</td>\n",
       "      <td>...</td>\n",
       "      <td>...</td>\n",
       "      <td>...</td>\n",
       "      <td>...</td>\n",
       "      <td>...</td>\n",
       "      <td>...</td>\n",
       "    </tr>\n",
       "    <tr>\n",
       "      <th>10402</th>\n",
       "      <td>128.0</td>\n",
       "      <td>7.558488</td>\n",
       "      <td>12.000000</td>\n",
       "      <td>4.000000</td>\n",
       "      <td>26.385218</td>\n",
       "      <td>11.330440</td>\n",
       "      <td>2.644000</td>\n",
       "      <td>1.631000</td>\n",
       "      <td>0.892000</td>\n",
       "      <td>0.496070</td>\n",
       "      <td>1.79607</td>\n",
       "    </tr>\n",
       "    <tr>\n",
       "      <th>10403</th>\n",
       "      <td>30.0</td>\n",
       "      <td>1.743160</td>\n",
       "      <td>10.000000</td>\n",
       "      <td>5.333333</td>\n",
       "      <td>20.766935</td>\n",
       "      <td>14.163933</td>\n",
       "      <td>3.090000</td>\n",
       "      <td>1.556667</td>\n",
       "      <td>0.866667</td>\n",
       "      <td>0.480390</td>\n",
       "      <td>0.81480</td>\n",
       "    </tr>\n",
       "    <tr>\n",
       "      <th>10404</th>\n",
       "      <td>196.0</td>\n",
       "      <td>30.920000</td>\n",
       "      <td>24.500000</td>\n",
       "      <td>5.500000</td>\n",
       "      <td>53.490297</td>\n",
       "      <td>10.074300</td>\n",
       "      <td>2.295000</td>\n",
       "      <td>1.545000</td>\n",
       "      <td>1.120000</td>\n",
       "      <td>0.469715</td>\n",
       "      <td>2.11540</td>\n",
       "    </tr>\n",
       "    <tr>\n",
       "      <th>10405</th>\n",
       "      <td>38.0</td>\n",
       "      <td>1.553160</td>\n",
       "      <td>12.666667</td>\n",
       "      <td>4.666667</td>\n",
       "      <td>26.621687</td>\n",
       "      <td>11.290033</td>\n",
       "      <td>2.743333</td>\n",
       "      <td>1.756667</td>\n",
       "      <td>0.980000</td>\n",
       "      <td>0.486507</td>\n",
       "      <td>0.77755</td>\n",
       "    </tr>\n",
       "    <tr>\n",
       "      <th>10406</th>\n",
       "      <td>288.0</td>\n",
       "      <td>24.655328</td>\n",
       "      <td>11.142857</td>\n",
       "      <td>4.571429</td>\n",
       "      <td>22.536126</td>\n",
       "      <td>10.960357</td>\n",
       "      <td>2.792143</td>\n",
       "      <td>1.772857</td>\n",
       "      <td>0.940000</td>\n",
       "      <td>0.493919</td>\n",
       "      <td>0.97737</td>\n",
       "    </tr>\n",
       "  </tbody>\n",
       "</table>\n",
       "<p>10407 rows × 11 columns</p>\n",
       "</div>"
      ],
      "text/plain": [
       "       allelectrons_Total  density_Total  allelectrons_Average  val_e_Average  \\\n",
       "0                   100.0       0.841611             10.000000       4.800000   \n",
       "1                   100.0       7.558488             10.000000       4.800000   \n",
       "2                    76.0       8.885992             15.600000       5.600000   \n",
       "3                   100.0       8.795296             10.000000       4.800000   \n",
       "4                   116.0       9.577996             11.600000       4.800000   \n",
       "...                   ...            ...                   ...            ...   \n",
       "10402               128.0       7.558488             12.000000       4.000000   \n",
       "10403                30.0       1.743160             10.000000       5.333333   \n",
       "10404               196.0      30.920000             24.500000       5.500000   \n",
       "10405                38.0       1.553160             12.666667       4.666667   \n",
       "10406               288.0      24.655328             11.142857       4.571429   \n",
       "\n",
       "       atomicweight_Average  ionenergy_Average  el_neg_chi_Average  \\\n",
       "0                 20.612526          11.088100            2.766000   \n",
       "1                 20.298893          12.040830            2.755000   \n",
       "2                 33.739258          12.086300            2.828000   \n",
       "3                 20.213349          10.948500            2.648000   \n",
       "4                 24.988133          11.824480            2.766000   \n",
       "...                     ...                ...                 ...   \n",
       "10402             26.385218          11.330440            2.644000   \n",
       "10403             20.766935          14.163933            3.090000   \n",
       "10404             53.490297          10.074300            2.295000   \n",
       "10405             26.621687          11.290033            2.743333   \n",
       "10406             22.536126          10.960357            2.792143   \n",
       "\n",
       "       R_vdw_element_Average  R_cov_element_Average  zaratio_Average  \\\n",
       "0                   1.732000               0.860000         0.496070   \n",
       "1                   1.631000               0.910000         0.492719   \n",
       "2                   1.788000               0.864000         0.481478   \n",
       "3                   1.626000               0.936000         0.489272   \n",
       "4                   1.682000               0.896000         0.492736   \n",
       "...                      ...                    ...              ...   \n",
       "10402               1.631000               0.892000         0.496070   \n",
       "10403               1.556667               0.866667         0.480390   \n",
       "10404               1.545000               1.120000         0.469715   \n",
       "10405               1.756667               0.980000         0.486507   \n",
       "10406               1.772857               0.940000         0.493919   \n",
       "\n",
       "       density_Average  \n",
       "0              0.91457  \n",
       "1              0.71760  \n",
       "2              1.50633  \n",
       "3              0.78937  \n",
       "4              1.86481  \n",
       "...                ...  \n",
       "10402          1.79607  \n",
       "10403          0.81480  \n",
       "10404          2.11540  \n",
       "10405          0.77755  \n",
       "10406          0.97737  \n",
       "\n",
       "[10407 rows x 11 columns]"
      ]
     },
     "execution_count": 96,
     "metadata": {},
     "output_type": "execute_result"
    }
   ],
   "source": [
    "x"
   ]
  },
  {
   "cell_type": "code",
   "execution_count": 97,
   "metadata": {
    "execution": {
     "iopub.execute_input": "2023-12-11T14:44:01.304830Z",
     "iopub.status.busy": "2023-12-11T14:44:01.304343Z",
     "iopub.status.idle": "2023-12-11T14:44:01.315396Z",
     "shell.execute_reply": "2023-12-11T14:44:01.314045Z",
     "shell.execute_reply.started": "2023-12-11T14:44:01.304764Z"
    }
   },
   "outputs": [
    {
     "data": {
      "text/plain": [
       "0        6.0\n",
       "1        6.5\n",
       "2        2.5\n",
       "3        6.0\n",
       "4        6.0\n",
       "        ... \n",
       "10402    4.0\n",
       "10403    5.0\n",
       "10404    1.8\n",
       "10405    6.0\n",
       "10406    6.5\n",
       "Name: Hardness, Length: 10407, dtype: float64"
      ]
     },
     "execution_count": 97,
     "metadata": {},
     "output_type": "execute_result"
    }
   ],
   "source": [
    "y"
   ]
  },
  {
   "cell_type": "code",
   "execution_count": 98,
   "metadata": {
    "execution": {
     "iopub.execute_input": "2023-12-11T14:44:02.982340Z",
     "iopub.status.busy": "2023-12-11T14:44:02.981775Z",
     "iopub.status.idle": "2023-12-11T14:44:02.988648Z",
     "shell.execute_reply": "2023-12-11T14:44:02.987410Z",
     "shell.execute_reply.started": "2023-12-11T14:44:02.982303Z"
    }
   },
   "outputs": [],
   "source": [
    "import tensorflow as tf"
   ]
  },
  {
   "cell_type": "code",
   "execution_count": 99,
   "metadata": {
    "execution": {
     "iopub.execute_input": "2023-12-11T14:44:03.882914Z",
     "iopub.status.busy": "2023-12-11T14:44:03.882438Z",
     "iopub.status.idle": "2023-12-11T14:44:03.889247Z",
     "shell.execute_reply": "2023-12-11T14:44:03.888063Z",
     "shell.execute_reply.started": "2023-12-11T14:44:03.882875Z"
    }
   },
   "outputs": [],
   "source": [
    "from tensorflow.keras.models import Sequential\n",
    "from tensorflow.keras.layers import Dense"
   ]
  },
  {
   "cell_type": "code",
   "execution_count": 100,
   "metadata": {
    "execution": {
     "iopub.execute_input": "2023-12-11T14:44:04.919288Z",
     "iopub.status.busy": "2023-12-11T14:44:04.918827Z",
     "iopub.status.idle": "2023-12-11T14:44:04.925986Z",
     "shell.execute_reply": "2023-12-11T14:44:04.924721Z",
     "shell.execute_reply.started": "2023-12-11T14:44:04.919253Z"
    }
   },
   "outputs": [],
   "source": [
    "from sklearn.model_selection import train_test_split"
   ]
  },
  {
   "cell_type": "code",
   "execution_count": 101,
   "metadata": {
    "execution": {
     "iopub.execute_input": "2023-12-11T14:44:05.475629Z",
     "iopub.status.busy": "2023-12-11T14:44:05.475220Z",
     "iopub.status.idle": "2023-12-11T14:44:05.485892Z",
     "shell.execute_reply": "2023-12-11T14:44:05.484860Z",
     "shell.execute_reply.started": "2023-12-11T14:44:05.475598Z"
    }
   },
   "outputs": [],
   "source": [
    "x_train,x_test,y_train,y_test=train_test_split(x,y,test_size=0.20,random_state=42)"
   ]
  },
  {
   "cell_type": "code",
   "execution_count": 102,
   "metadata": {
    "execution": {
     "iopub.execute_input": "2023-12-11T14:44:50.085173Z",
     "iopub.status.busy": "2023-12-11T14:44:50.084335Z",
     "iopub.status.idle": "2023-12-11T14:44:50.123741Z",
     "shell.execute_reply": "2023-12-11T14:44:50.122380Z",
     "shell.execute_reply.started": "2023-12-11T14:44:50.085132Z"
    }
   },
   "outputs": [],
   "source": [
    "model=Sequential()\n",
    "model.add(Dense(190,activation='relu'))\n",
    "model.add(Dense(190,activation='relu'))\n",
    "model.add(Dense(190,activation='relu'))\n",
    "model.add(Dense(190,activation='relu'))\n",
    "model.add(Dense(190,activation='relu'))\n",
    "model.add(Dense(1))   #regression olduğu için sadece Dense(1) yazdık. Tek bir değer tahmin edeceğiz\n",
    "model.compile(loss='mse', optimizer='adam')  #mes mean_squared_error"
   ]
  },
  {
   "cell_type": "code",
   "execution_count": 103,
   "metadata": {
    "execution": {
     "iopub.execute_input": "2023-12-11T14:44:54.391815Z",
     "iopub.status.busy": "2023-12-11T14:44:54.390779Z",
     "iopub.status.idle": "2023-12-11T14:47:02.533767Z",
     "shell.execute_reply": "2023-12-11T14:47:02.532288Z",
     "shell.execute_reply.started": "2023-12-11T14:44:54.391760Z"
    }
   },
   "outputs": [
    {
     "name": "stdout",
     "output_type": "stream",
     "text": [
      "Epoch 1/300\n",
      "66/66 [==============================] - 2s 9ms/step - loss: 19.3633 - val_loss: 5.7009\n",
      "Epoch 2/300\n",
      "66/66 [==============================] - 0s 6ms/step - loss: 8.6536 - val_loss: 3.0097\n",
      "Epoch 3/300\n",
      "66/66 [==============================] - 0s 7ms/step - loss: 5.1935 - val_loss: 6.5062\n",
      "Epoch 4/300\n",
      "66/66 [==============================] - 0s 6ms/step - loss: 5.2685 - val_loss: 2.8126\n",
      "Epoch 5/300\n",
      "66/66 [==============================] - 0s 6ms/step - loss: 3.8483 - val_loss: 2.9895\n",
      "Epoch 6/300\n",
      "66/66 [==============================] - 0s 6ms/step - loss: 2.3143 - val_loss: 6.7178\n",
      "Epoch 7/300\n",
      "66/66 [==============================] - 0s 6ms/step - loss: 2.8330 - val_loss: 5.6907\n",
      "Epoch 8/300\n",
      "66/66 [==============================] - 0s 6ms/step - loss: 2.4563 - val_loss: 3.1427\n",
      "Epoch 9/300\n",
      "66/66 [==============================] - 0s 6ms/step - loss: 2.1390 - val_loss: 2.0862\n",
      "Epoch 10/300\n",
      "66/66 [==============================] - 0s 6ms/step - loss: 2.4973 - val_loss: 2.4051\n",
      "Epoch 11/300\n",
      "66/66 [==============================] - 0s 6ms/step - loss: 2.2217 - val_loss: 4.0781\n",
      "Epoch 12/300\n",
      "66/66 [==============================] - 0s 6ms/step - loss: 3.3634 - val_loss: 2.3649\n",
      "Epoch 13/300\n",
      "66/66 [==============================] - 0s 6ms/step - loss: 3.0169 - val_loss: 3.2202\n",
      "Epoch 14/300\n",
      "66/66 [==============================] - 0s 6ms/step - loss: 2.5528 - val_loss: 2.1429\n",
      "Epoch 15/300\n",
      "66/66 [==============================] - 0s 7ms/step - loss: 2.5848 - val_loss: 2.1893\n",
      "Epoch 16/300\n",
      "66/66 [==============================] - 0s 6ms/step - loss: 2.0857 - val_loss: 2.1398\n",
      "Epoch 17/300\n",
      "66/66 [==============================] - 0s 7ms/step - loss: 2.1181 - val_loss: 2.8361\n",
      "Epoch 18/300\n",
      "66/66 [==============================] - 1s 8ms/step - loss: 2.8684 - val_loss: 4.4167\n",
      "Epoch 19/300\n",
      "66/66 [==============================] - 0s 7ms/step - loss: 2.4208 - val_loss: 2.1445\n",
      "Epoch 20/300\n",
      "66/66 [==============================] - 0s 7ms/step - loss: 2.3853 - val_loss: 2.1811\n",
      "Epoch 21/300\n",
      "66/66 [==============================] - 0s 6ms/step - loss: 2.2073 - val_loss: 4.4676\n",
      "Epoch 22/300\n",
      "66/66 [==============================] - 0s 6ms/step - loss: 2.1731 - val_loss: 2.3260\n",
      "Epoch 23/300\n",
      "66/66 [==============================] - 0s 6ms/step - loss: 2.2108 - val_loss: 2.0497\n",
      "Epoch 24/300\n",
      "66/66 [==============================] - 0s 7ms/step - loss: 2.0440 - val_loss: 2.0039\n",
      "Epoch 25/300\n",
      "66/66 [==============================] - 0s 6ms/step - loss: 2.0558 - val_loss: 2.5768\n",
      "Epoch 26/300\n",
      "66/66 [==============================] - 0s 7ms/step - loss: 2.0773 - val_loss: 2.0126\n",
      "Epoch 27/300\n",
      "66/66 [==============================] - 0s 7ms/step - loss: 2.0177 - val_loss: 1.9697\n",
      "Epoch 28/300\n",
      "66/66 [==============================] - 0s 6ms/step - loss: 2.4872 - val_loss: 2.5528\n",
      "Epoch 29/300\n",
      "66/66 [==============================] - 0s 7ms/step - loss: 2.1243 - val_loss: 2.4514\n",
      "Epoch 30/300\n",
      "66/66 [==============================] - 0s 6ms/step - loss: 2.3916 - val_loss: 2.0759\n",
      "Epoch 31/300\n",
      "66/66 [==============================] - 0s 6ms/step - loss: 2.0527 - val_loss: 2.3742\n",
      "Epoch 32/300\n",
      "66/66 [==============================] - 0s 6ms/step - loss: 2.8909 - val_loss: 2.2004\n",
      "Epoch 33/300\n",
      "66/66 [==============================] - 0s 7ms/step - loss: 2.1290 - val_loss: 2.5253\n",
      "Epoch 34/300\n",
      "66/66 [==============================] - 0s 6ms/step - loss: 2.1384 - val_loss: 2.0346\n",
      "Epoch 35/300\n",
      "66/66 [==============================] - 0s 6ms/step - loss: 2.0296 - val_loss: 2.0150\n",
      "Epoch 36/300\n",
      "66/66 [==============================] - 0s 7ms/step - loss: 2.0941 - val_loss: 2.0552\n",
      "Epoch 37/300\n",
      "66/66 [==============================] - 0s 6ms/step - loss: 2.0375 - val_loss: 2.2913\n",
      "Epoch 38/300\n",
      "66/66 [==============================] - 0s 6ms/step - loss: 2.2185 - val_loss: 2.1442\n",
      "Epoch 39/300\n",
      "66/66 [==============================] - 0s 6ms/step - loss: 2.2347 - val_loss: 2.0484\n",
      "Epoch 40/300\n",
      "66/66 [==============================] - 0s 6ms/step - loss: 2.1600 - val_loss: 1.9785\n",
      "Epoch 41/300\n",
      "66/66 [==============================] - 0s 6ms/step - loss: 2.1627 - val_loss: 2.1807\n",
      "Epoch 42/300\n",
      "66/66 [==============================] - 0s 6ms/step - loss: 2.0257 - val_loss: 2.3223\n",
      "Epoch 43/300\n",
      "66/66 [==============================] - 0s 7ms/step - loss: 2.1852 - val_loss: 2.0162\n",
      "Epoch 44/300\n",
      "66/66 [==============================] - 0s 6ms/step - loss: 2.0446 - val_loss: 1.9645\n",
      "Epoch 45/300\n",
      "66/66 [==============================] - 0s 6ms/step - loss: 2.0510 - val_loss: 1.9587\n",
      "Epoch 46/300\n",
      "66/66 [==============================] - 0s 7ms/step - loss: 1.9763 - val_loss: 1.9898\n",
      "Epoch 47/300\n",
      "66/66 [==============================] - 0s 6ms/step - loss: 2.1525 - val_loss: 1.9966\n",
      "Epoch 48/300\n",
      "66/66 [==============================] - 0s 6ms/step - loss: 1.9996 - val_loss: 1.9973\n",
      "Epoch 49/300\n",
      "66/66 [==============================] - 0s 6ms/step - loss: 2.0174 - val_loss: 2.0336\n",
      "Epoch 50/300\n",
      "66/66 [==============================] - 0s 7ms/step - loss: 2.1746 - val_loss: 1.9697\n",
      "Epoch 51/300\n",
      "66/66 [==============================] - 0s 6ms/step - loss: 1.9857 - val_loss: 2.1155\n",
      "Epoch 52/300\n",
      "66/66 [==============================] - 0s 6ms/step - loss: 2.2223 - val_loss: 2.0953\n",
      "Epoch 53/300\n",
      "66/66 [==============================] - 0s 6ms/step - loss: 2.1920 - val_loss: 2.2139\n",
      "Epoch 54/300\n",
      "66/66 [==============================] - 0s 6ms/step - loss: 2.0278 - val_loss: 2.4081\n",
      "Epoch 55/300\n",
      "66/66 [==============================] - 0s 7ms/step - loss: 2.1350 - val_loss: 1.9841\n",
      "Epoch 56/300\n",
      "66/66 [==============================] - 0s 6ms/step - loss: 1.9762 - val_loss: 2.0180\n",
      "Epoch 57/300\n",
      "66/66 [==============================] - 0s 6ms/step - loss: 1.9715 - val_loss: 2.0065\n",
      "Epoch 58/300\n",
      "66/66 [==============================] - 0s 6ms/step - loss: 2.1748 - val_loss: 2.0070\n",
      "Epoch 59/300\n",
      "66/66 [==============================] - 0s 6ms/step - loss: 2.0434 - val_loss: 2.3842\n",
      "Epoch 60/300\n",
      "66/66 [==============================] - 0s 6ms/step - loss: 1.9892 - val_loss: 2.0637\n",
      "Epoch 61/300\n",
      "66/66 [==============================] - 0s 6ms/step - loss: 2.0239 - val_loss: 2.0129\n",
      "Epoch 62/300\n",
      "66/66 [==============================] - 0s 6ms/step - loss: 1.9559 - val_loss: 1.9495\n",
      "Epoch 63/300\n",
      "66/66 [==============================] - 0s 6ms/step - loss: 1.9395 - val_loss: 1.9200\n",
      "Epoch 64/300\n",
      "66/66 [==============================] - 0s 6ms/step - loss: 1.9363 - val_loss: 2.0060\n",
      "Epoch 65/300\n",
      "66/66 [==============================] - 0s 6ms/step - loss: 1.9691 - val_loss: 2.0171\n",
      "Epoch 66/300\n",
      "66/66 [==============================] - 0s 6ms/step - loss: 1.9529 - val_loss: 2.0324\n",
      "Epoch 67/300\n",
      "66/66 [==============================] - 0s 6ms/step - loss: 1.9781 - val_loss: 1.9476\n",
      "Epoch 68/300\n",
      "66/66 [==============================] - 0s 7ms/step - loss: 1.9481 - val_loss: 2.0562\n",
      "Epoch 69/300\n",
      "66/66 [==============================] - 0s 6ms/step - loss: 1.9231 - val_loss: 2.0035\n",
      "Epoch 70/300\n",
      "66/66 [==============================] - 0s 6ms/step - loss: 1.9362 - val_loss: 2.0738\n",
      "Epoch 71/300\n",
      "66/66 [==============================] - 0s 6ms/step - loss: 2.0000 - val_loss: 1.9657\n",
      "Epoch 72/300\n",
      "66/66 [==============================] - 0s 6ms/step - loss: 1.9220 - val_loss: 1.9320\n",
      "Epoch 73/300\n",
      "66/66 [==============================] - 0s 6ms/step - loss: 1.9051 - val_loss: 1.9788\n",
      "Epoch 74/300\n",
      "66/66 [==============================] - 0s 7ms/step - loss: 1.9150 - val_loss: 1.9185\n",
      "Epoch 75/300\n",
      "66/66 [==============================] - 0s 6ms/step - loss: 1.9292 - val_loss: 2.2162\n",
      "Epoch 76/300\n",
      "66/66 [==============================] - 0s 6ms/step - loss: 2.0012 - val_loss: 2.0176\n",
      "Epoch 77/300\n",
      "66/66 [==============================] - 0s 6ms/step - loss: 1.9202 - val_loss: 1.9541\n",
      "Epoch 78/300\n",
      "66/66 [==============================] - 0s 6ms/step - loss: 1.9112 - val_loss: 2.1355\n",
      "Epoch 79/300\n",
      "66/66 [==============================] - 0s 6ms/step - loss: 1.9363 - val_loss: 2.0033\n",
      "Epoch 80/300\n",
      "66/66 [==============================] - 0s 6ms/step - loss: 1.8835 - val_loss: 1.9005\n",
      "Epoch 81/300\n",
      "66/66 [==============================] - 0s 6ms/step - loss: 1.8826 - val_loss: 2.0605\n",
      "Epoch 82/300\n",
      "66/66 [==============================] - 0s 6ms/step - loss: 1.8781 - val_loss: 2.0797\n",
      "Epoch 83/300\n",
      "66/66 [==============================] - 0s 6ms/step - loss: 1.9461 - val_loss: 1.9616\n",
      "Epoch 84/300\n",
      "66/66 [==============================] - 0s 6ms/step - loss: 1.8861 - val_loss: 2.0002\n",
      "Epoch 85/300\n",
      "66/66 [==============================] - 0s 6ms/step - loss: 1.9397 - val_loss: 1.9746\n",
      "Epoch 86/300\n",
      "66/66 [==============================] - 0s 6ms/step - loss: 2.0431 - val_loss: 1.9374\n",
      "Epoch 87/300\n",
      "66/66 [==============================] - 0s 6ms/step - loss: 1.9077 - val_loss: 2.0498\n",
      "Epoch 88/300\n",
      "66/66 [==============================] - 0s 6ms/step - loss: 1.8797 - val_loss: 2.0923\n",
      "Epoch 89/300\n",
      "66/66 [==============================] - 0s 6ms/step - loss: 1.9144 - val_loss: 1.9316\n",
      "Epoch 90/300\n",
      "66/66 [==============================] - 0s 6ms/step - loss: 1.8918 - val_loss: 1.9187\n",
      "Epoch 91/300\n",
      "66/66 [==============================] - 0s 6ms/step - loss: 1.9101 - val_loss: 1.9710\n",
      "Epoch 92/300\n",
      "66/66 [==============================] - 0s 7ms/step - loss: 1.8853 - val_loss: 1.9261\n",
      "Epoch 93/300\n",
      "66/66 [==============================] - 1s 8ms/step - loss: 1.8556 - val_loss: 1.9384\n",
      "Epoch 94/300\n",
      "66/66 [==============================] - 0s 7ms/step - loss: 1.8425 - val_loss: 1.9334\n",
      "Epoch 95/300\n",
      "66/66 [==============================] - 0s 7ms/step - loss: 1.8408 - val_loss: 1.8796\n",
      "Epoch 96/300\n",
      "66/66 [==============================] - 0s 6ms/step - loss: 1.8594 - val_loss: 1.9036\n",
      "Epoch 97/300\n",
      "66/66 [==============================] - 0s 7ms/step - loss: 1.8679 - val_loss: 1.9619\n",
      "Epoch 98/300\n",
      "66/66 [==============================] - 0s 6ms/step - loss: 1.8533 - val_loss: 1.8823\n",
      "Epoch 99/300\n",
      "66/66 [==============================] - 0s 6ms/step - loss: 1.8796 - val_loss: 1.9996\n",
      "Epoch 100/300\n",
      "66/66 [==============================] - 0s 6ms/step - loss: 1.8667 - val_loss: 1.9525\n",
      "Epoch 101/300\n",
      "66/66 [==============================] - 0s 6ms/step - loss: 1.9089 - val_loss: 2.0129\n",
      "Epoch 102/300\n",
      "66/66 [==============================] - 0s 6ms/step - loss: 1.9618 - val_loss: 2.1173\n",
      "Epoch 103/300\n",
      "66/66 [==============================] - 0s 6ms/step - loss: 1.9760 - val_loss: 1.9657\n",
      "Epoch 104/300\n",
      "66/66 [==============================] - 0s 6ms/step - loss: 1.8971 - val_loss: 1.9173\n",
      "Epoch 105/300\n",
      "66/66 [==============================] - 0s 7ms/step - loss: 1.9692 - val_loss: 2.1787\n",
      "Epoch 106/300\n",
      "66/66 [==============================] - 0s 6ms/step - loss: 1.9339 - val_loss: 2.4838\n",
      "Epoch 107/300\n",
      "66/66 [==============================] - 0s 7ms/step - loss: 3.1457 - val_loss: 1.9654\n",
      "Epoch 108/300\n",
      "66/66 [==============================] - 0s 7ms/step - loss: 1.9764 - val_loss: 3.8010\n",
      "Epoch 109/300\n",
      "66/66 [==============================] - 0s 6ms/step - loss: 3.2220 - val_loss: 1.9036\n",
      "Epoch 110/300\n",
      "66/66 [==============================] - 0s 6ms/step - loss: 1.9787 - val_loss: 2.0332\n",
      "Epoch 111/300\n",
      "66/66 [==============================] - 0s 6ms/step - loss: 1.9063 - val_loss: 1.9949\n",
      "Epoch 112/300\n",
      "66/66 [==============================] - 0s 7ms/step - loss: 1.9281 - val_loss: 2.0019\n",
      "Epoch 113/300\n",
      "66/66 [==============================] - 0s 6ms/step - loss: 2.1845 - val_loss: 1.9388\n",
      "Epoch 114/300\n",
      "66/66 [==============================] - 0s 6ms/step - loss: 1.8998 - val_loss: 1.9766\n",
      "Epoch 115/300\n",
      "66/66 [==============================] - 0s 6ms/step - loss: 1.9001 - val_loss: 1.9197\n",
      "Epoch 116/300\n",
      "66/66 [==============================] - 0s 6ms/step - loss: 1.8506 - val_loss: 1.9375\n",
      "Epoch 117/300\n",
      "66/66 [==============================] - 0s 6ms/step - loss: 1.8489 - val_loss: 1.8787\n",
      "Epoch 118/300\n",
      "66/66 [==============================] - 0s 6ms/step - loss: 1.8221 - val_loss: 1.8689\n",
      "Epoch 119/300\n",
      "66/66 [==============================] - 0s 6ms/step - loss: 1.8127 - val_loss: 1.8752\n",
      "Epoch 120/300\n",
      "66/66 [==============================] - 0s 6ms/step - loss: 1.8230 - val_loss: 1.9385\n",
      "Epoch 121/300\n",
      "66/66 [==============================] - 0s 7ms/step - loss: 1.8476 - val_loss: 1.9219\n",
      "Epoch 122/300\n",
      "66/66 [==============================] - 0s 6ms/step - loss: 1.8220 - val_loss: 1.8717\n",
      "Epoch 123/300\n",
      "66/66 [==============================] - 0s 6ms/step - loss: 1.8107 - val_loss: 1.8349\n",
      "Epoch 124/300\n",
      "66/66 [==============================] - 0s 6ms/step - loss: 1.8014 - val_loss: 1.8597\n",
      "Epoch 125/300\n",
      "66/66 [==============================] - 0s 7ms/step - loss: 1.8055 - val_loss: 1.8464\n",
      "Epoch 126/300\n",
      "66/66 [==============================] - 0s 6ms/step - loss: 1.7945 - val_loss: 1.8225\n",
      "Epoch 127/300\n",
      "66/66 [==============================] - 0s 6ms/step - loss: 1.7933 - val_loss: 1.8476\n",
      "Epoch 128/300\n",
      "66/66 [==============================] - 0s 6ms/step - loss: 1.7974 - val_loss: 1.8388\n",
      "Epoch 129/300\n",
      "66/66 [==============================] - 0s 6ms/step - loss: 1.8093 - val_loss: 1.8940\n",
      "Epoch 130/300\n",
      "66/66 [==============================] - 0s 6ms/step - loss: 1.9093 - val_loss: 1.8960\n",
      "Epoch 131/300\n",
      "66/66 [==============================] - 0s 6ms/step - loss: 1.8144 - val_loss: 1.9710\n",
      "Epoch 132/300\n",
      "66/66 [==============================] - 0s 6ms/step - loss: 1.8243 - val_loss: 1.9693\n",
      "Epoch 133/300\n",
      "66/66 [==============================] - 0s 7ms/step - loss: 1.9050 - val_loss: 2.0750\n",
      "Epoch 134/300\n",
      "66/66 [==============================] - 0s 6ms/step - loss: 1.8440 - val_loss: 1.8317\n",
      "Epoch 135/300\n",
      "66/66 [==============================] - 0s 6ms/step - loss: 1.8213 - val_loss: 1.8906\n",
      "Epoch 136/300\n",
      "66/66 [==============================] - 0s 6ms/step - loss: 1.8483 - val_loss: 1.8632\n",
      "Epoch 137/300\n",
      "66/66 [==============================] - 0s 6ms/step - loss: 1.7758 - val_loss: 1.8348\n",
      "Epoch 138/300\n",
      "66/66 [==============================] - 0s 7ms/step - loss: 1.7821 - val_loss: 1.8466\n",
      "Epoch 139/300\n",
      "66/66 [==============================] - 0s 6ms/step - loss: 1.7940 - val_loss: 1.8376\n",
      "Epoch 140/300\n",
      "66/66 [==============================] - 0s 7ms/step - loss: 1.7838 - val_loss: 1.8162\n",
      "Epoch 141/300\n",
      "66/66 [==============================] - 0s 6ms/step - loss: 1.7605 - val_loss: 1.8327\n",
      "Epoch 142/300\n",
      "66/66 [==============================] - 0s 6ms/step - loss: 1.7706 - val_loss: 1.8735\n",
      "Epoch 143/300\n",
      "66/66 [==============================] - 0s 6ms/step - loss: 1.7501 - val_loss: 1.8244\n",
      "Epoch 144/300\n",
      "66/66 [==============================] - 0s 6ms/step - loss: 1.7547 - val_loss: 1.8567\n",
      "Epoch 145/300\n",
      "66/66 [==============================] - 0s 7ms/step - loss: 1.7456 - val_loss: 1.8385\n",
      "Epoch 146/300\n",
      "66/66 [==============================] - 0s 6ms/step - loss: 1.7349 - val_loss: 1.8183\n",
      "Epoch 147/300\n",
      "66/66 [==============================] - 0s 7ms/step - loss: 1.8231 - val_loss: 1.8583\n",
      "Epoch 148/300\n",
      "66/66 [==============================] - 0s 6ms/step - loss: 1.8065 - val_loss: 1.8585\n",
      "Epoch 149/300\n",
      "66/66 [==============================] - 0s 6ms/step - loss: 1.7908 - val_loss: 1.9582\n",
      "Epoch 150/300\n",
      "66/66 [==============================] - 0s 6ms/step - loss: 1.8182 - val_loss: 1.8918\n",
      "Epoch 151/300\n",
      "66/66 [==============================] - 0s 6ms/step - loss: 1.7955 - val_loss: 1.8454\n",
      "Epoch 152/300\n",
      "66/66 [==============================] - 0s 6ms/step - loss: 1.8116 - val_loss: 1.9476\n",
      "Epoch 153/300\n",
      "66/66 [==============================] - 0s 6ms/step - loss: 1.9262 - val_loss: 1.8583\n",
      "Epoch 154/300\n",
      "66/66 [==============================] - 0s 6ms/step - loss: 1.7759 - val_loss: 1.8677\n",
      "Epoch 155/300\n",
      "66/66 [==============================] - 0s 6ms/step - loss: 1.7715 - val_loss: 1.8752\n",
      "Epoch 156/300\n",
      "66/66 [==============================] - 0s 6ms/step - loss: 1.7478 - val_loss: 1.8644\n",
      "Epoch 157/300\n",
      "66/66 [==============================] - 0s 6ms/step - loss: 1.7485 - val_loss: 1.8724\n",
      "Epoch 158/300\n",
      "66/66 [==============================] - 0s 6ms/step - loss: 1.7426 - val_loss: 1.8100\n",
      "Epoch 159/300\n",
      "66/66 [==============================] - 0s 6ms/step - loss: 1.7272 - val_loss: 1.8506\n",
      "Epoch 160/300\n",
      "66/66 [==============================] - 0s 6ms/step - loss: 1.7791 - val_loss: 1.8424\n",
      "Epoch 161/300\n",
      "66/66 [==============================] - 0s 6ms/step - loss: 1.7399 - val_loss: 1.8495\n",
      "Epoch 162/300\n",
      "66/66 [==============================] - 0s 6ms/step - loss: 1.7377 - val_loss: 1.8203\n",
      "Epoch 163/300\n",
      "66/66 [==============================] - 0s 6ms/step - loss: 1.7320 - val_loss: 1.8663\n",
      "Epoch 164/300\n",
      "66/66 [==============================] - 0s 6ms/step - loss: 1.7556 - val_loss: 1.8367\n",
      "Epoch 165/300\n",
      "66/66 [==============================] - 0s 6ms/step - loss: 1.7368 - val_loss: 1.8913\n",
      "Epoch 166/300\n",
      "66/66 [==============================] - 0s 6ms/step - loss: 1.7405 - val_loss: 1.9741\n",
      "Epoch 167/300\n",
      "66/66 [==============================] - 0s 6ms/step - loss: 1.7776 - val_loss: 1.8232\n",
      "Epoch 168/300\n",
      "66/66 [==============================] - 0s 6ms/step - loss: 1.7652 - val_loss: 1.8470\n",
      "Epoch 169/300\n",
      "66/66 [==============================] - 1s 9ms/step - loss: 1.7348 - val_loss: 1.8670\n",
      "Epoch 170/300\n",
      "66/66 [==============================] - 0s 7ms/step - loss: 1.7210 - val_loss: 1.9312\n",
      "Epoch 171/300\n",
      "66/66 [==============================] - 0s 7ms/step - loss: 1.7519 - val_loss: 1.8424\n",
      "Epoch 172/300\n",
      "66/66 [==============================] - 0s 6ms/step - loss: 1.7174 - val_loss: 1.8331\n",
      "Epoch 173/300\n",
      "66/66 [==============================] - 0s 6ms/step - loss: 1.7548 - val_loss: 1.8734\n",
      "Epoch 174/300\n",
      "66/66 [==============================] - 0s 6ms/step - loss: 1.7213 - val_loss: 1.8578\n",
      "Epoch 175/300\n",
      "66/66 [==============================] - 0s 6ms/step - loss: 1.7103 - val_loss: 1.8307\n",
      "Epoch 176/300\n",
      "66/66 [==============================] - 0s 6ms/step - loss: 1.7015 - val_loss: 1.8430\n",
      "Epoch 177/300\n",
      "66/66 [==============================] - 0s 6ms/step - loss: 1.7407 - val_loss: 1.8918\n",
      "Epoch 178/300\n",
      "66/66 [==============================] - 0s 6ms/step - loss: 1.7135 - val_loss: 1.8457\n",
      "Epoch 179/300\n",
      "66/66 [==============================] - 0s 7ms/step - loss: 1.7056 - val_loss: 1.8361\n",
      "Epoch 180/300\n",
      "66/66 [==============================] - 0s 6ms/step - loss: 1.7444 - val_loss: 1.8178\n",
      "Epoch 181/300\n",
      "66/66 [==============================] - 0s 6ms/step - loss: 1.6994 - val_loss: 1.8170\n",
      "Epoch 182/300\n",
      "66/66 [==============================] - 0s 6ms/step - loss: 1.7046 - val_loss: 1.8481\n",
      "Epoch 183/300\n",
      "66/66 [==============================] - 0s 6ms/step - loss: 1.7056 - val_loss: 1.8458\n",
      "Epoch 184/300\n",
      "66/66 [==============================] - 0s 6ms/step - loss: 1.6904 - val_loss: 1.8296\n",
      "Epoch 185/300\n",
      "66/66 [==============================] - 0s 6ms/step - loss: 1.6753 - val_loss: 1.9157\n",
      "Epoch 186/300\n",
      "66/66 [==============================] - 0s 6ms/step - loss: 1.7564 - val_loss: 1.8356\n",
      "Epoch 187/300\n",
      "66/66 [==============================] - 0s 6ms/step - loss: 1.7255 - val_loss: 1.8094\n",
      "Epoch 188/300\n",
      "66/66 [==============================] - 0s 7ms/step - loss: 1.7122 - val_loss: 1.9109\n",
      "Epoch 189/300\n",
      "66/66 [==============================] - 0s 6ms/step - loss: 1.7538 - val_loss: 1.8297\n",
      "Epoch 190/300\n",
      "66/66 [==============================] - 0s 6ms/step - loss: 1.7161 - val_loss: 1.8623\n",
      "Epoch 191/300\n",
      "66/66 [==============================] - 0s 6ms/step - loss: 1.6958 - val_loss: 1.7982\n",
      "Epoch 192/300\n",
      "66/66 [==============================] - 0s 6ms/step - loss: 1.7415 - val_loss: 1.8362\n",
      "Epoch 193/300\n",
      "66/66 [==============================] - 0s 7ms/step - loss: 1.7074 - val_loss: 1.8619\n",
      "Epoch 194/300\n",
      "66/66 [==============================] - 0s 6ms/step - loss: 1.7075 - val_loss: 1.8786\n",
      "Epoch 195/300\n",
      "66/66 [==============================] - 0s 6ms/step - loss: 1.7265 - val_loss: 1.7886\n",
      "Epoch 196/300\n",
      "66/66 [==============================] - 0s 6ms/step - loss: 1.6679 - val_loss: 1.8094\n",
      "Epoch 197/300\n",
      "66/66 [==============================] - 0s 6ms/step - loss: 1.6710 - val_loss: 1.8637\n",
      "Epoch 198/300\n",
      "66/66 [==============================] - 0s 6ms/step - loss: 1.6633 - val_loss: 1.8816\n",
      "Epoch 199/300\n",
      "66/66 [==============================] - 0s 6ms/step - loss: 1.6885 - val_loss: 1.8975\n",
      "Epoch 200/300\n",
      "66/66 [==============================] - 0s 6ms/step - loss: 1.6554 - val_loss: 1.8269\n",
      "Epoch 201/300\n",
      "66/66 [==============================] - 0s 6ms/step - loss: 1.6976 - val_loss: 1.8236\n",
      "Epoch 202/300\n",
      "66/66 [==============================] - 0s 6ms/step - loss: 1.6768 - val_loss: 1.8760\n",
      "Epoch 203/300\n",
      "66/66 [==============================] - 0s 6ms/step - loss: 1.6680 - val_loss: 1.8161\n",
      "Epoch 204/300\n",
      "66/66 [==============================] - 0s 6ms/step - loss: 1.6540 - val_loss: 1.8093\n",
      "Epoch 205/300\n",
      "66/66 [==============================] - 0s 7ms/step - loss: 1.6616 - val_loss: 1.8359\n",
      "Epoch 206/300\n",
      "66/66 [==============================] - 0s 6ms/step - loss: 1.6822 - val_loss: 1.8333\n",
      "Epoch 207/300\n",
      "66/66 [==============================] - 0s 6ms/step - loss: 1.6553 - val_loss: 1.8439\n",
      "Epoch 208/300\n",
      "66/66 [==============================] - 0s 6ms/step - loss: 1.6536 - val_loss: 1.7952\n",
      "Epoch 209/300\n",
      "66/66 [==============================] - 0s 6ms/step - loss: 1.6435 - val_loss: 1.7944\n",
      "Epoch 210/300\n",
      "66/66 [==============================] - 0s 6ms/step - loss: 1.6826 - val_loss: 1.8644\n",
      "Epoch 211/300\n",
      "66/66 [==============================] - 0s 6ms/step - loss: 1.6499 - val_loss: 1.8271\n",
      "Epoch 212/300\n",
      "66/66 [==============================] - 0s 7ms/step - loss: 1.6805 - val_loss: 1.8717\n",
      "Epoch 213/300\n",
      "66/66 [==============================] - 0s 6ms/step - loss: 1.6699 - val_loss: 1.8199\n",
      "Epoch 214/300\n",
      "66/66 [==============================] - 0s 6ms/step - loss: 1.6293 - val_loss: 1.8125\n",
      "Epoch 215/300\n",
      "66/66 [==============================] - 0s 6ms/step - loss: 1.6323 - val_loss: 1.8741\n",
      "Epoch 216/300\n",
      "66/66 [==============================] - 0s 6ms/step - loss: 1.6446 - val_loss: 1.8671\n",
      "Epoch 217/300\n",
      "66/66 [==============================] - 0s 7ms/step - loss: 1.7522 - val_loss: 1.8287\n",
      "Epoch 218/300\n",
      "66/66 [==============================] - 0s 6ms/step - loss: 1.6576 - val_loss: 1.9041\n",
      "Epoch 219/300\n",
      "66/66 [==============================] - 0s 6ms/step - loss: 1.6352 - val_loss: 1.8686\n",
      "Epoch 220/300\n",
      "66/66 [==============================] - 0s 6ms/step - loss: 1.6567 - val_loss: 1.8707\n",
      "Epoch 221/300\n",
      "66/66 [==============================] - 0s 6ms/step - loss: 1.6128 - val_loss: 1.8214\n",
      "Epoch 222/300\n",
      "66/66 [==============================] - 0s 6ms/step - loss: 1.6283 - val_loss: 1.8708\n",
      "Epoch 223/300\n",
      "66/66 [==============================] - 0s 6ms/step - loss: 1.6113 - val_loss: 1.8493\n",
      "Epoch 224/300\n",
      "66/66 [==============================] - 0s 6ms/step - loss: 1.6242 - val_loss: 1.8823\n",
      "Epoch 225/300\n",
      "66/66 [==============================] - 0s 6ms/step - loss: 1.6156 - val_loss: 1.8326\n",
      "Epoch 226/300\n",
      "66/66 [==============================] - 0s 6ms/step - loss: 1.6226 - val_loss: 1.8234\n",
      "Epoch 227/300\n",
      "66/66 [==============================] - 0s 6ms/step - loss: 1.5937 - val_loss: 1.8623\n",
      "Epoch 228/300\n",
      "66/66 [==============================] - 0s 6ms/step - loss: 1.6207 - val_loss: 1.8321\n",
      "Epoch 229/300\n",
      "66/66 [==============================] - 0s 6ms/step - loss: 1.6101 - val_loss: 1.8290\n",
      "Epoch 230/300\n",
      "66/66 [==============================] - 0s 6ms/step - loss: 1.7866 - val_loss: 1.8668\n",
      "Epoch 231/300\n",
      "66/66 [==============================] - 0s 6ms/step - loss: 1.6734 - val_loss: 1.8491\n",
      "Epoch 232/300\n",
      "66/66 [==============================] - 0s 6ms/step - loss: 1.6560 - val_loss: 1.8685\n",
      "Epoch 233/300\n",
      "66/66 [==============================] - 0s 7ms/step - loss: 1.6857 - val_loss: 1.8155\n",
      "Epoch 234/300\n",
      "66/66 [==============================] - 0s 6ms/step - loss: 1.6082 - val_loss: 1.8645\n",
      "Epoch 235/300\n",
      "66/66 [==============================] - 0s 6ms/step - loss: 1.6041 - val_loss: 1.8690\n",
      "Epoch 236/300\n",
      "66/66 [==============================] - 0s 7ms/step - loss: 1.6513 - val_loss: 1.8167\n",
      "Epoch 237/300\n",
      "66/66 [==============================] - 0s 7ms/step - loss: 1.5780 - val_loss: 1.8094\n",
      "Epoch 238/300\n",
      "66/66 [==============================] - 0s 6ms/step - loss: 1.5913 - val_loss: 1.8370\n",
      "Epoch 239/300\n",
      "66/66 [==============================] - 0s 6ms/step - loss: 1.5806 - val_loss: 1.8569\n",
      "Epoch 240/300\n",
      "66/66 [==============================] - 0s 7ms/step - loss: 1.5760 - val_loss: 1.8717\n",
      "Epoch 241/300\n",
      "66/66 [==============================] - 0s 7ms/step - loss: 1.6852 - val_loss: 1.9049\n",
      "Epoch 242/300\n",
      "66/66 [==============================] - 0s 6ms/step - loss: 1.6190 - val_loss: 1.8451\n",
      "Epoch 243/300\n",
      "66/66 [==============================] - 0s 6ms/step - loss: 1.5919 - val_loss: 1.8805\n",
      "Epoch 244/300\n",
      "66/66 [==============================] - 0s 7ms/step - loss: 1.6224 - val_loss: 1.8801\n",
      "Epoch 245/300\n",
      "66/66 [==============================] - 1s 8ms/step - loss: 1.6177 - val_loss: 1.9033\n",
      "Epoch 246/300\n",
      "66/66 [==============================] - 0s 7ms/step - loss: 1.7563 - val_loss: 1.8658\n",
      "Epoch 247/300\n",
      "66/66 [==============================] - 0s 7ms/step - loss: 1.6202 - val_loss: 1.8334\n",
      "Epoch 248/300\n",
      "66/66 [==============================] - 0s 7ms/step - loss: 1.5924 - val_loss: 1.8725\n",
      "Epoch 249/300\n",
      "66/66 [==============================] - 0s 6ms/step - loss: 1.5876 - val_loss: 1.8993\n",
      "Epoch 250/300\n",
      "66/66 [==============================] - 0s 6ms/step - loss: 1.5617 - val_loss: 1.8642\n",
      "Epoch 251/300\n",
      "66/66 [==============================] - 0s 6ms/step - loss: 1.5653 - val_loss: 1.8832\n",
      "Epoch 252/300\n",
      "66/66 [==============================] - 0s 6ms/step - loss: 1.5755 - val_loss: 1.8471\n",
      "Epoch 253/300\n",
      "66/66 [==============================] - 0s 6ms/step - loss: 1.6210 - val_loss: 1.8709\n",
      "Epoch 254/300\n",
      "66/66 [==============================] - 0s 6ms/step - loss: 1.6026 - val_loss: 1.8477\n",
      "Epoch 255/300\n",
      "66/66 [==============================] - 0s 7ms/step - loss: 1.5557 - val_loss: 1.8456\n",
      "Epoch 256/300\n",
      "66/66 [==============================] - 0s 6ms/step - loss: 1.5838 - val_loss: 1.8978\n",
      "Epoch 257/300\n",
      "66/66 [==============================] - 0s 6ms/step - loss: 1.5964 - val_loss: 1.8970\n",
      "Epoch 258/300\n",
      "66/66 [==============================] - 0s 6ms/step - loss: 1.5664 - val_loss: 1.8236\n",
      "Epoch 259/300\n",
      "66/66 [==============================] - 0s 7ms/step - loss: 1.5408 - val_loss: 1.8261\n",
      "Epoch 260/300\n",
      "66/66 [==============================] - 0s 7ms/step - loss: 1.5600 - val_loss: 1.8319\n",
      "Epoch 261/300\n",
      "66/66 [==============================] - 0s 6ms/step - loss: 1.5484 - val_loss: 1.8819\n",
      "Epoch 262/300\n",
      "66/66 [==============================] - 0s 6ms/step - loss: 1.5657 - val_loss: 1.9629\n",
      "Epoch 263/300\n",
      "66/66 [==============================] - 0s 6ms/step - loss: 1.5476 - val_loss: 1.8380\n",
      "Epoch 264/300\n",
      "66/66 [==============================] - 0s 7ms/step - loss: 1.5316 - val_loss: 1.8310\n",
      "Epoch 265/300\n",
      "66/66 [==============================] - 0s 6ms/step - loss: 1.5321 - val_loss: 1.8840\n",
      "Epoch 266/300\n",
      "66/66 [==============================] - 0s 6ms/step - loss: 1.5448 - val_loss: 1.8718\n",
      "Epoch 267/300\n",
      "66/66 [==============================] - 0s 6ms/step - loss: 1.5301 - val_loss: 1.9178\n",
      "Epoch 268/300\n",
      "66/66 [==============================] - 0s 6ms/step - loss: 1.5592 - val_loss: 1.8292\n",
      "Epoch 269/300\n",
      "66/66 [==============================] - 0s 7ms/step - loss: 1.5325 - val_loss: 1.8157\n",
      "Epoch 270/300\n",
      "66/66 [==============================] - 0s 7ms/step - loss: 1.5351 - val_loss: 1.8257\n",
      "Epoch 271/300\n",
      "66/66 [==============================] - 0s 6ms/step - loss: 1.5036 - val_loss: 1.8444\n",
      "Epoch 272/300\n",
      "66/66 [==============================] - 0s 7ms/step - loss: 1.5105 - val_loss: 1.8223\n",
      "Epoch 273/300\n",
      "66/66 [==============================] - 0s 6ms/step - loss: 1.4832 - val_loss: 1.8376\n",
      "Epoch 274/300\n",
      "66/66 [==============================] - 0s 6ms/step - loss: 1.4972 - val_loss: 1.8787\n",
      "Epoch 275/300\n",
      "66/66 [==============================] - 0s 6ms/step - loss: 1.4953 - val_loss: 1.8627\n",
      "Epoch 276/300\n",
      "66/66 [==============================] - 0s 6ms/step - loss: 1.5015 - val_loss: 1.8743\n",
      "Epoch 277/300\n",
      "66/66 [==============================] - 0s 6ms/step - loss: 1.5095 - val_loss: 1.8847\n",
      "Epoch 278/300\n",
      "66/66 [==============================] - 0s 6ms/step - loss: 1.5484 - val_loss: 1.8397\n",
      "Epoch 279/300\n",
      "66/66 [==============================] - 0s 6ms/step - loss: 1.5456 - val_loss: 1.8143\n",
      "Epoch 280/300\n",
      "66/66 [==============================] - 0s 6ms/step - loss: 1.5059 - val_loss: 1.8521\n",
      "Epoch 281/300\n",
      "66/66 [==============================] - 0s 7ms/step - loss: 1.6445 - val_loss: 1.8871\n",
      "Epoch 282/300\n",
      "66/66 [==============================] - 0s 6ms/step - loss: 1.6777 - val_loss: 1.8202\n",
      "Epoch 283/300\n",
      "66/66 [==============================] - 0s 7ms/step - loss: 1.5667 - val_loss: 1.8563\n",
      "Epoch 284/300\n",
      "66/66 [==============================] - 0s 6ms/step - loss: 1.6753 - val_loss: 1.8185\n",
      "Epoch 285/300\n",
      "66/66 [==============================] - 0s 6ms/step - loss: 1.5819 - val_loss: 1.8290\n",
      "Epoch 286/300\n",
      "66/66 [==============================] - 0s 6ms/step - loss: 1.5833 - val_loss: 1.8758\n",
      "Epoch 287/300\n",
      "66/66 [==============================] - 0s 6ms/step - loss: 1.6627 - val_loss: 1.8120\n",
      "Epoch 288/300\n",
      "66/66 [==============================] - 0s 7ms/step - loss: 1.5453 - val_loss: 1.8045\n",
      "Epoch 289/300\n",
      "66/66 [==============================] - 0s 6ms/step - loss: 1.5274 - val_loss: 1.9194\n",
      "Epoch 290/300\n",
      "66/66 [==============================] - 0s 6ms/step - loss: 1.5186 - val_loss: 1.8692\n",
      "Epoch 291/300\n",
      "66/66 [==============================] - 0s 6ms/step - loss: 1.5719 - val_loss: 1.9427\n",
      "Epoch 292/300\n",
      "66/66 [==============================] - 0s 6ms/step - loss: 1.5698 - val_loss: 1.8140\n",
      "Epoch 293/300\n",
      "66/66 [==============================] - 0s 6ms/step - loss: 1.4990 - val_loss: 1.8588\n",
      "Epoch 294/300\n",
      "66/66 [==============================] - 0s 6ms/step - loss: 1.5537 - val_loss: 1.8862\n",
      "Epoch 295/300\n",
      "66/66 [==============================] - 0s 6ms/step - loss: 1.5578 - val_loss: 1.9122\n",
      "Epoch 296/300\n",
      "66/66 [==============================] - 0s 7ms/step - loss: 1.6306 - val_loss: 1.8811\n",
      "Epoch 297/300\n",
      "66/66 [==============================] - 0s 6ms/step - loss: 1.5255 - val_loss: 1.8803\n",
      "Epoch 298/300\n",
      "66/66 [==============================] - 0s 6ms/step - loss: 1.4810 - val_loss: 1.8452\n",
      "Epoch 299/300\n",
      "66/66 [==============================] - 0s 7ms/step - loss: 1.4655 - val_loss: 1.8580\n",
      "Epoch 300/300\n",
      "66/66 [==============================] - 0s 7ms/step - loss: 1.5117 - val_loss: 1.8565\n"
     ]
    },
    {
     "data": {
      "text/plain": [
       "<keras.src.callbacks.History at 0x7d126b348790>"
      ]
     },
     "execution_count": 103,
     "metadata": {},
     "output_type": "execute_result"
    }
   ],
   "source": [
    "model.fit(x_train,y_train,validation_data=(x_test,y_test),batch_size=128,epochs=300)"
   ]
  },
  {
   "cell_type": "code",
   "execution_count": 104,
   "metadata": {
    "execution": {
     "iopub.execute_input": "2023-12-11T14:47:08.002360Z",
     "iopub.status.busy": "2023-12-11T14:47:08.001871Z",
     "iopub.status.idle": "2023-12-11T14:47:08.033330Z",
     "shell.execute_reply": "2023-12-11T14:47:08.032190Z",
     "shell.execute_reply.started": "2023-12-11T14:47:08.002321Z"
    }
   },
   "outputs": [
    {
     "name": "stdout",
     "output_type": "stream",
     "text": [
      "Model: \"sequential_3\"\n",
      "_________________________________________________________________\n",
      " Layer (type)                Output Shape              Param #   \n",
      "=================================================================\n",
      " dense_15 (Dense)            (None, 190)               2280      \n",
      "                                                                 \n",
      " dense_16 (Dense)            (None, 190)               36290     \n",
      "                                                                 \n",
      " dense_17 (Dense)            (None, 190)               36290     \n",
      "                                                                 \n",
      " dense_18 (Dense)            (None, 190)               36290     \n",
      "                                                                 \n",
      " dense_19 (Dense)            (None, 190)               36290     \n",
      "                                                                 \n",
      " dense_20 (Dense)            (None, 1)                 191       \n",
      "                                                                 \n",
      "=================================================================\n",
      "Total params: 147631 (576.68 KB)\n",
      "Trainable params: 147631 (576.68 KB)\n",
      "Non-trainable params: 0 (0.00 Byte)\n",
      "_________________________________________________________________\n"
     ]
    }
   ],
   "source": [
    "model.summary()"
   ]
  },
  {
   "cell_type": "code",
   "execution_count": 105,
   "metadata": {
    "execution": {
     "iopub.execute_input": "2023-12-11T14:47:11.741439Z",
     "iopub.status.busy": "2023-12-11T14:47:11.741009Z",
     "iopub.status.idle": "2023-12-11T14:47:11.747240Z",
     "shell.execute_reply": "2023-12-11T14:47:11.746309Z",
     "shell.execute_reply.started": "2023-12-11T14:47:11.741406Z"
    }
   },
   "outputs": [],
   "source": [
    "loss_df=pd.DataFrame(model.history.history)"
   ]
  },
  {
   "cell_type": "code",
   "execution_count": 106,
   "metadata": {
    "execution": {
     "iopub.execute_input": "2023-12-11T14:47:15.148984Z",
     "iopub.status.busy": "2023-12-11T14:47:15.148416Z",
     "iopub.status.idle": "2023-12-11T14:47:15.545429Z",
     "shell.execute_reply": "2023-12-11T14:47:15.544059Z",
     "shell.execute_reply.started": "2023-12-11T14:47:15.148938Z"
    }
   },
   "outputs": [
    {
     "data": {
      "text/plain": [
       "<Axes: >"
      ]
     },
     "execution_count": 106,
     "metadata": {},
     "output_type": "execute_result"
    },
    {
     "data": {
      "image/png": "[encoded data removed]",
      "text/plain": [
       "<Figure size 640x480 with 1 Axes>"
      ]
     },
     "metadata": {},
     "output_type": "display_data"
    }
   ],
   "source": [
    "loss_df.plot()"
   ]
  },
  {
   "cell_type": "code",
   "execution_count": 107,
   "metadata": {
    "execution": {
     "iopub.execute_input": "2023-12-11T14:47:20.456250Z",
     "iopub.status.busy": "2023-12-11T14:47:20.455426Z",
     "iopub.status.idle": "2023-12-11T14:47:20.762912Z",
     "shell.execute_reply": "2023-12-11T14:47:20.761648Z",
     "shell.execute_reply.started": "2023-12-11T14:47:20.456212Z"
    }
   },
   "outputs": [
    {
     "name": "stdout",
     "output_type": "stream",
     "text": [
      "66/66 [==============================] - 0s 2ms/step\n"
     ]
    }
   ],
   "source": [
    "tahmin=model.predict(x_test)"
   ]
  },
  {
   "cell_type": "code",
   "execution_count": 108,
   "metadata": {
    "execution": {
     "iopub.execute_input": "2023-12-11T14:47:21.268188Z",
     "iopub.status.busy": "2023-12-11T14:47:21.267721Z",
     "iopub.status.idle": "2023-12-11T14:47:21.274506Z",
     "shell.execute_reply": "2023-12-11T14:47:21.273132Z",
     "shell.execute_reply.started": "2023-12-11T14:47:21.268154Z"
    }
   },
   "outputs": [],
   "source": [
    "from sklearn.metrics import mean_squared_error,r2_score"
   ]
  },
  {
   "cell_type": "code",
   "execution_count": 109,
   "metadata": {
    "execution": {
     "iopub.execute_input": "2023-12-11T14:47:21.781656Z",
     "iopub.status.busy": "2023-12-11T14:47:21.781188Z",
     "iopub.status.idle": "2023-12-11T14:47:21.792160Z",
     "shell.execute_reply": "2023-12-11T14:47:21.790725Z",
     "shell.execute_reply.started": "2023-12-11T14:47:21.781619Z"
    }
   },
   "outputs": [
    {
     "data": {
      "text/plain": [
       "0.31698770593273395"
      ]
     },
     "execution_count": 109,
     "metadata": {},
     "output_type": "execute_result"
    }
   ],
   "source": [
    "r2_score(y_test,tahmin)\n",
    "#BURAYA KADAR DERSTEKİ KODLARI KULLNADIK\n",
    "#sonuç %80 nin altında olduğu için yeni bir deeplearning uygalamak istiyoruz"
   ]
  },
  {
   "cell_type": "code",
   "execution_count": 110,
   "metadata": {
    "execution": {
     "iopub.execute_input": "2023-12-11T14:47:24.781362Z",
     "iopub.status.busy": "2023-12-11T14:47:24.780930Z",
     "iopub.status.idle": "2023-12-11T14:47:24.790834Z",
     "shell.execute_reply": "2023-12-11T14:47:24.789524Z",
     "shell.execute_reply.started": "2023-12-11T14:47:24.781327Z"
    }
   },
   "outputs": [
    {
     "data": {
      "text/plain": [
       "1.3625258547621204"
      ]
     },
     "execution_count": 110,
     "metadata": {},
     "output_type": "execute_result"
    }
   ],
   "source": [
    "mean_squared_error(y_test,tahmin)**.5"
   ]
  },
  {
   "cell_type": "code",
   "execution_count": 2,
   "metadata": {},
   "outputs": [],
   "source": [
    "#BURDAN SONRASI KAGGLE DA ÇÖZÜLMÜŞ BİR PROJEDEN YARDIM AKINDI\n"
   ]
  },
  {
   "cell_type": "code",
   "execution_count": 58,
   "metadata": {
    "execution": {
     "iopub.execute_input": "2023-12-11T14:11:47.041783Z",
     "iopub.status.busy": "2023-12-11T14:11:47.041087Z",
     "iopub.status.idle": "2023-12-11T14:11:47.361181Z",
     "shell.execute_reply": "2023-12-11T14:11:47.359887Z",
     "shell.execute_reply.started": "2023-12-11T14:11:47.041744Z"
    }
   },
   "outputs": [],
   "source": [
    "import pandas as pd\n",
    "import matplotlib.pyplot as plt\n",
    "import seaborn as sns\n",
    "import numpy as np\n",
    "\n",
    "from sklearn.model_selection import train_test_split\n",
    "from scipy import stats\n",
    "from sklearn.metrics import r2_score,mean_squared_error,mean_absolute_error\n",
    "\n",
    "from sklearn.linear_model import LinearRegression,Ridge,Lasso,ElasticNet\n",
    "from sklearn.tree import ExtraTreeRegressor\n",
    "from sklearn.ensemble import GradientBoostingRegressor"
   ]
  },
  {
   "cell_type": "code",
   "execution_count": 59,
   "metadata": {
    "execution": {
     "iopub.execute_input": "2023-12-11T14:12:06.096309Z",
     "iopub.status.busy": "2023-12-11T14:12:06.095415Z",
     "iopub.status.idle": "2023-12-11T14:12:06.106595Z",
     "shell.execute_reply": "2023-12-11T14:12:06.105078Z",
     "shell.execute_reply.started": "2023-12-11T14:12:06.096265Z"
    }
   },
   "outputs": [],
   "source": [
    "x_train,x_test,y_train,y_test=train_test_split(x,y,test_size=0.20,random_state=42)"
   ]
  },
  {
   "cell_type": "code",
   "execution_count": 60,
   "metadata": {
    "execution": {
     "iopub.execute_input": "2023-12-11T14:12:20.511692Z",
     "iopub.status.busy": "2023-12-11T14:12:20.511222Z",
     "iopub.status.idle": "2023-12-11T14:12:20.518521Z",
     "shell.execute_reply": "2023-12-11T14:12:20.516885Z",
     "shell.execute_reply.started": "2023-12-11T14:12:20.511659Z"
    }
   },
   "outputs": [],
   "source": [
    "from tensorflow.keras.models import Sequential\n",
    "from tensorflow.keras.layers import Dense"
   ]
  },
  {
   "cell_type": "code",
   "execution_count": 61,
   "metadata": {
    "execution": {
     "iopub.execute_input": "2023-12-11T14:12:26.379249Z",
     "iopub.status.busy": "2023-12-11T14:12:26.378748Z",
     "iopub.status.idle": "2023-12-11T14:12:26.603685Z",
     "shell.execute_reply": "2023-12-11T14:12:26.602773Z",
     "shell.execute_reply.started": "2023-12-11T14:12:26.379210Z"
    }
   },
   "outputs": [],
   "source": [
    "from sklearn.linear_model import LinearRegression\n",
    "import xgboost as xg "
   ]
  },
  {
   "cell_type": "code",
   "execution_count": 62,
   "metadata": {
    "execution": {
     "iopub.execute_input": "2023-12-11T14:14:04.831039Z",
     "iopub.status.busy": "2023-12-11T14:14:04.830480Z",
     "iopub.status.idle": "2023-12-11T14:14:04.838482Z",
     "shell.execute_reply": "2023-12-11T14:14:04.837055Z",
     "shell.execute_reply.started": "2023-12-11T14:14:04.831000Z"
    }
   },
   "outputs": [],
   "source": [
    "from tensorflow.keras.models import Sequential\n",
    "from tensorflow.keras.layers import Dense, Dropout\n",
    "from tensorflow.keras.layers import Normalization\n",
    "from tensorflow.keras.layers import BatchNormalization\n",
    "from tensorflow.keras import Input"
   ]
  },
  {
   "cell_type": "code",
   "execution_count": 63,
   "metadata": {
    "execution": {
     "iopub.execute_input": "2023-12-11T14:14:18.038092Z",
     "iopub.status.busy": "2023-12-11T14:14:18.037265Z",
     "iopub.status.idle": "2023-12-11T14:14:18.098432Z",
     "shell.execute_reply": "2023-12-11T14:14:18.097360Z",
     "shell.execute_reply.started": "2023-12-11T14:14:18.038049Z"
    }
   },
   "outputs": [],
   "source": [
    "train = pd.read_csv('/kaggle/input/playground-series-s3e25/train.csv')\n",
    "test = pd.read_csv('/kaggle/input/playground-series-s3e25/test.csv')"
   ]
  },
  {
   "cell_type": "code",
   "execution_count": 73,
   "metadata": {
    "execution": {
     "iopub.execute_input": "2023-12-11T14:18:15.266408Z",
     "iopub.status.busy": "2023-12-11T14:18:15.264587Z",
     "iopub.status.idle": "2023-12-11T14:18:15.274685Z",
     "shell.execute_reply": "2023-12-11T14:18:15.273199Z",
     "shell.execute_reply.started": "2023-12-11T14:18:15.266342Z"
    }
   },
   "outputs": [],
   "source": [
    "def imp_feat(df):\n",
    "    df['feat1'] = df['ionenergy_Average']/(df['allelectrons_Average']+1)\n",
    "    df['feat2'] = df['el_neg_chi_Average']/(df['allelectrons_Average']+1)\n",
    "    df['feat3'] = df['el_neg_chi_Average']/(df['atomicweight_Average']+1)\n",
    "    df['feat4'] = df['ionenergy_Average']+df['zaratio_Average']\n",
    "    df['feat5'] = df['zaratio_Average']/(df['allelectrons_Average']+1)\n",
    "    df['feat6'] = df['R_vdw_element_Average']/(df['allelectrons_Average']+1)\n",
    "    return df"
   ]
  },
  {
   "cell_type": "code",
   "execution_count": 74,
   "metadata": {
    "execution": {
     "iopub.execute_input": "2023-12-11T14:18:16.997512Z",
     "iopub.status.busy": "2023-12-11T14:18:16.997048Z",
     "iopub.status.idle": "2023-12-11T14:18:17.014058Z",
     "shell.execute_reply": "2023-12-11T14:18:17.012685Z",
     "shell.execute_reply.started": "2023-12-11T14:18:16.997478Z"
    }
   },
   "outputs": [],
   "source": [
    "train = imp_feat(train)\n",
    "test = imp_feat(test)"
   ]
  },
  {
   "cell_type": "code",
   "execution_count": 75,
   "metadata": {
    "execution": {
     "iopub.execute_input": "2023-12-11T14:18:18.256438Z",
     "iopub.status.busy": "2023-12-11T14:18:18.255969Z",
     "iopub.status.idle": "2023-12-11T14:18:18.261798Z",
     "shell.execute_reply": "2023-12-11T14:18:18.260880Z",
     "shell.execute_reply.started": "2023-12-11T14:18:18.256400Z"
    }
   },
   "outputs": [],
   "source": [
    "from sklearn.model_selection import train_test_split\n",
    "from sklearn.metrics import median_absolute_error"
   ]
  },
  {
   "cell_type": "code",
   "execution_count": 76,
   "metadata": {
    "execution": {
     "iopub.execute_input": "2023-12-11T14:18:19.253169Z",
     "iopub.status.busy": "2023-12-11T14:18:19.251916Z",
     "iopub.status.idle": "2023-12-11T14:18:19.269274Z",
     "shell.execute_reply": "2023-12-11T14:18:19.268176Z",
     "shell.execute_reply.started": "2023-12-11T14:18:19.253108Z"
    }
   },
   "outputs": [],
   "source": [
    "X = train.drop(columns=['id', 'Hardness'])\n",
    "y = train['Hardness']\n",
    "X_train, X_test, y_train, y_test = train_test_split(X, y, test_size=0.1, shuffle=True, random_state=0)"
   ]
  },
  {
   "cell_type": "code",
   "execution_count": 77,
   "metadata": {
    "execution": {
     "iopub.execute_input": "2023-12-11T14:18:19.917035Z",
     "iopub.status.busy": "2023-12-11T14:18:19.915848Z",
     "iopub.status.idle": "2023-12-11T14:18:19.997613Z",
     "shell.execute_reply": "2023-12-11T14:18:19.994584Z",
     "shell.execute_reply.started": "2023-12-11T14:18:19.916982Z"
    }
   },
   "outputs": [],
   "source": [
    "regression = LinearRegression()\n",
    "regression.fit(X_train, y_train)\n",
    "reg_pred = regression.predict(X_test)\n",
    "reg_mae = median_absolute_error(y_test, reg_pred)"
   ]
  },
  {
   "cell_type": "code",
   "execution_count": 78,
   "metadata": {
    "execution": {
     "iopub.execute_input": "2023-12-11T14:18:21.520208Z",
     "iopub.status.busy": "2023-12-11T14:18:21.519713Z",
     "iopub.status.idle": "2023-12-11T14:18:21.664335Z",
     "shell.execute_reply": "2023-12-11T14:18:21.663289Z",
     "shell.execute_reply.started": "2023-12-11T14:18:21.520162Z"
    }
   },
   "outputs": [],
   "source": [
    "xgb_rr = xg.XGBRegressor(objective ='reg:squarederror', \n",
    "                  n_estimators = 10, seed = 123)\n",
    "xgb_rr.fit(X_train, y_train) \n",
    "xgb_rr_pred = xgb_rr.predict(X_test)\n",
    "xgb_rr_mae = median_absolute_error(y_test, xgb_rr_pred)"
   ]
  },
  {
   "cell_type": "code",
   "execution_count": 79,
   "metadata": {
    "execution": {
     "iopub.execute_input": "2023-12-11T14:18:22.570670Z",
     "iopub.status.busy": "2023-12-11T14:18:22.570213Z",
     "iopub.status.idle": "2023-12-11T14:18:22.577542Z",
     "shell.execute_reply": "2023-12-11T14:18:22.576072Z",
     "shell.execute_reply.started": "2023-12-11T14:18:22.570634Z"
    }
   },
   "outputs": [
    {
     "name": "stdout",
     "output_type": "stream",
     "text": [
      "Mean Absolute Error for Linear Regression is: 0.982529\n",
      "Mean Absolute Error for XGBRegressor  with reg:squarederror is: 0.713656\n"
     ]
    }
   ],
   "source": [
    "print(f'Mean Absolute Error for Linear Regression is:{reg_mae: .6f}')\n",
    "print(f'Mean Absolute Error for XGBRegressor  with reg:squarederror is:{xgb_rr_mae: .6f}')"
   ]
  },
  {
   "cell_type": "code",
   "execution_count": 80,
   "metadata": {
    "execution": {
     "iopub.execute_input": "2023-12-11T14:18:24.148216Z",
     "iopub.status.busy": "2023-12-11T14:18:24.146991Z",
     "iopub.status.idle": "2023-12-11T14:18:24.164582Z",
     "shell.execute_reply": "2023-12-11T14:18:24.163284Z",
     "shell.execute_reply.started": "2023-12-11T14:18:24.148154Z"
    }
   },
   "outputs": [
    {
     "data": {
      "text/html": [
       "<div>\n",
       "<style scoped>\n",
       "    .dataframe tbody tr th:only-of-type {\n",
       "        vertical-align: middle;\n",
       "    }\n",
       "\n",
       "    .dataframe tbody tr th {\n",
       "        vertical-align: top;\n",
       "    }\n",
       "\n",
       "    .dataframe thead th {\n",
       "        text-align: right;\n",
       "    }\n",
       "</style>\n",
       "<table border=\"1\" class=\"dataframe\">\n",
       "  <thead>\n",
       "    <tr style=\"text-align: right;\">\n",
       "      <th></th>\n",
       "      <th>feature</th>\n",
       "      <th>importance</th>\n",
       "    </tr>\n",
       "  </thead>\n",
       "  <tbody>\n",
       "    <tr>\n",
       "      <th>11</th>\n",
       "      <td>feat1</td>\n",
       "      <td>0.219147</td>\n",
       "    </tr>\n",
       "    <tr>\n",
       "      <th>13</th>\n",
       "      <td>feat3</td>\n",
       "      <td>0.210960</td>\n",
       "    </tr>\n",
       "    <tr>\n",
       "      <th>14</th>\n",
       "      <td>feat4</td>\n",
       "      <td>0.174520</td>\n",
       "    </tr>\n",
       "    <tr>\n",
       "      <th>12</th>\n",
       "      <td>feat2</td>\n",
       "      <td>0.126631</td>\n",
       "    </tr>\n",
       "    <tr>\n",
       "      <th>15</th>\n",
       "      <td>feat5</td>\n",
       "      <td>0.046122</td>\n",
       "    </tr>\n",
       "    <tr>\n",
       "      <th>3</th>\n",
       "      <td>val_e_Average</td>\n",
       "      <td>0.029836</td>\n",
       "    </tr>\n",
       "    <tr>\n",
       "      <th>9</th>\n",
       "      <td>zaratio_Average</td>\n",
       "      <td>0.026332</td>\n",
       "    </tr>\n",
       "    <tr>\n",
       "      <th>4</th>\n",
       "      <td>atomicweight_Average</td>\n",
       "      <td>0.025491</td>\n",
       "    </tr>\n",
       "    <tr>\n",
       "      <th>5</th>\n",
       "      <td>ionenergy_Average</td>\n",
       "      <td>0.025133</td>\n",
       "    </tr>\n",
       "    <tr>\n",
       "      <th>16</th>\n",
       "      <td>feat6</td>\n",
       "      <td>0.021682</td>\n",
       "    </tr>\n",
       "    <tr>\n",
       "      <th>8</th>\n",
       "      <td>R_cov_element_Average</td>\n",
       "      <td>0.021568</td>\n",
       "    </tr>\n",
       "    <tr>\n",
       "      <th>10</th>\n",
       "      <td>density_Average</td>\n",
       "      <td>0.012712</td>\n",
       "    </tr>\n",
       "    <tr>\n",
       "      <th>6</th>\n",
       "      <td>el_neg_chi_Average</td>\n",
       "      <td>0.012535</td>\n",
       "    </tr>\n",
       "    <tr>\n",
       "      <th>1</th>\n",
       "      <td>density_Total</td>\n",
       "      <td>0.012349</td>\n",
       "    </tr>\n",
       "    <tr>\n",
       "      <th>2</th>\n",
       "      <td>allelectrons_Average</td>\n",
       "      <td>0.011943</td>\n",
       "    </tr>\n",
       "    <tr>\n",
       "      <th>7</th>\n",
       "      <td>R_vdw_element_Average</td>\n",
       "      <td>0.011569</td>\n",
       "    </tr>\n",
       "    <tr>\n",
       "      <th>0</th>\n",
       "      <td>allelectrons_Total</td>\n",
       "      <td>0.011470</td>\n",
       "    </tr>\n",
       "  </tbody>\n",
       "</table>\n",
       "</div>"
      ],
      "text/plain": [
       "                  feature  importance\n",
       "11                  feat1    0.219147\n",
       "13                  feat3    0.210960\n",
       "14                  feat4    0.174520\n",
       "12                  feat2    0.126631\n",
       "15                  feat5    0.046122\n",
       "3           val_e_Average    0.029836\n",
       "9         zaratio_Average    0.026332\n",
       "4    atomicweight_Average    0.025491\n",
       "5       ionenergy_Average    0.025133\n",
       "16                  feat6    0.021682\n",
       "8   R_cov_element_Average    0.021568\n",
       "10        density_Average    0.012712\n",
       "6      el_neg_chi_Average    0.012535\n",
       "1           density_Total    0.012349\n",
       "2    allelectrons_Average    0.011943\n",
       "7   R_vdw_element_Average    0.011569\n",
       "0      allelectrons_Total    0.011470"
      ]
     },
     "execution_count": 80,
     "metadata": {},
     "output_type": "execute_result"
    }
   ],
   "source": [
    "feat_imp = pd.DataFrame({\n",
    "    'feature': X.columns,\n",
    "    'importance' : xgb_rr.feature_importances_\n",
    "})\n",
    "feat_imp = feat_imp.sort_values(by='importance', ascending = False)\n",
    "feat_imp.head(20)"
   ]
  },
  {
   "cell_type": "code",
   "execution_count": 81,
   "metadata": {
    "execution": {
     "iopub.execute_input": "2023-12-11T14:18:25.305872Z",
     "iopub.status.busy": "2023-12-11T14:18:25.305383Z",
     "iopub.status.idle": "2023-12-11T14:18:25.373201Z",
     "shell.execute_reply": "2023-12-11T14:18:25.371954Z",
     "shell.execute_reply.started": "2023-12-11T14:18:25.305834Z"
    }
   },
   "outputs": [],
   "source": [
    "train['Hardness_linreg'] = regression.predict(X)\n",
    "train['Hardness_xgb'] = xgb_rr.predict(X)"
   ]
  },
  {
   "cell_type": "code",
   "execution_count": 82,
   "metadata": {
    "execution": {
     "iopub.execute_input": "2023-12-11T14:18:26.260286Z",
     "iopub.status.busy": "2023-12-11T14:18:26.259825Z",
     "iopub.status.idle": "2023-12-11T14:18:26.295755Z",
     "shell.execute_reply": "2023-12-11T14:18:26.294522Z",
     "shell.execute_reply.started": "2023-12-11T14:18:26.260252Z"
    }
   },
   "outputs": [
    {
     "data": {
      "text/html": [
       "<div>\n",
       "<style scoped>\n",
       "    .dataframe tbody tr th:only-of-type {\n",
       "        vertical-align: middle;\n",
       "    }\n",
       "\n",
       "    .dataframe tbody tr th {\n",
       "        vertical-align: top;\n",
       "    }\n",
       "\n",
       "    .dataframe thead th {\n",
       "        text-align: right;\n",
       "    }\n",
       "</style>\n",
       "<table border=\"1\" class=\"dataframe\">\n",
       "  <thead>\n",
       "    <tr style=\"text-align: right;\">\n",
       "      <th></th>\n",
       "      <th>id</th>\n",
       "      <th>allelectrons_Total</th>\n",
       "      <th>density_Total</th>\n",
       "      <th>allelectrons_Average</th>\n",
       "      <th>val_e_Average</th>\n",
       "      <th>atomicweight_Average</th>\n",
       "      <th>ionenergy_Average</th>\n",
       "      <th>el_neg_chi_Average</th>\n",
       "      <th>R_vdw_element_Average</th>\n",
       "      <th>R_cov_element_Average</th>\n",
       "      <th>...</th>\n",
       "      <th>density_Average</th>\n",
       "      <th>Hardness</th>\n",
       "      <th>feat1</th>\n",
       "      <th>feat2</th>\n",
       "      <th>feat3</th>\n",
       "      <th>feat4</th>\n",
       "      <th>feat5</th>\n",
       "      <th>feat6</th>\n",
       "      <th>Hardness_linreg</th>\n",
       "      <th>Hardness_xgb</th>\n",
       "    </tr>\n",
       "  </thead>\n",
       "  <tbody>\n",
       "    <tr>\n",
       "      <th>0</th>\n",
       "      <td>0</td>\n",
       "      <td>100.0</td>\n",
       "      <td>0.841611</td>\n",
       "      <td>10.0</td>\n",
       "      <td>4.8</td>\n",
       "      <td>20.612526</td>\n",
       "      <td>11.08810</td>\n",
       "      <td>2.766</td>\n",
       "      <td>1.732</td>\n",
       "      <td>0.860</td>\n",
       "      <td>...</td>\n",
       "      <td>0.91457</td>\n",
       "      <td>6.0</td>\n",
       "      <td>1.008009</td>\n",
       "      <td>0.251455</td>\n",
       "      <td>0.127981</td>\n",
       "      <td>11.584170</td>\n",
       "      <td>0.045097</td>\n",
       "      <td>0.157455</td>\n",
       "      <td>5.480976</td>\n",
       "      <td>5.820466</td>\n",
       "    </tr>\n",
       "    <tr>\n",
       "      <th>1</th>\n",
       "      <td>1</td>\n",
       "      <td>100.0</td>\n",
       "      <td>7.558488</td>\n",
       "      <td>10.0</td>\n",
       "      <td>4.8</td>\n",
       "      <td>20.298893</td>\n",
       "      <td>12.04083</td>\n",
       "      <td>2.755</td>\n",
       "      <td>1.631</td>\n",
       "      <td>0.910</td>\n",
       "      <td>...</td>\n",
       "      <td>0.71760</td>\n",
       "      <td>6.5</td>\n",
       "      <td>1.094621</td>\n",
       "      <td>0.250455</td>\n",
       "      <td>0.129349</td>\n",
       "      <td>12.533549</td>\n",
       "      <td>0.044793</td>\n",
       "      <td>0.148273</td>\n",
       "      <td>5.040213</td>\n",
       "      <td>5.214417</td>\n",
       "    </tr>\n",
       "    <tr>\n",
       "      <th>2</th>\n",
       "      <td>2</td>\n",
       "      <td>76.0</td>\n",
       "      <td>8.885992</td>\n",
       "      <td>15.6</td>\n",
       "      <td>5.6</td>\n",
       "      <td>33.739258</td>\n",
       "      <td>12.08630</td>\n",
       "      <td>2.828</td>\n",
       "      <td>1.788</td>\n",
       "      <td>0.864</td>\n",
       "      <td>...</td>\n",
       "      <td>1.50633</td>\n",
       "      <td>2.5</td>\n",
       "      <td>0.728090</td>\n",
       "      <td>0.170361</td>\n",
       "      <td>0.081406</td>\n",
       "      <td>12.567778</td>\n",
       "      <td>0.029005</td>\n",
       "      <td>0.107711</td>\n",
       "      <td>5.318907</td>\n",
       "      <td>4.107006</td>\n",
       "    </tr>\n",
       "    <tr>\n",
       "      <th>3</th>\n",
       "      <td>3</td>\n",
       "      <td>100.0</td>\n",
       "      <td>8.795296</td>\n",
       "      <td>10.0</td>\n",
       "      <td>4.8</td>\n",
       "      <td>20.213349</td>\n",
       "      <td>10.94850</td>\n",
       "      <td>2.648</td>\n",
       "      <td>1.626</td>\n",
       "      <td>0.936</td>\n",
       "      <td>...</td>\n",
       "      <td>0.78937</td>\n",
       "      <td>6.0</td>\n",
       "      <td>0.995318</td>\n",
       "      <td>0.240727</td>\n",
       "      <td>0.124827</td>\n",
       "      <td>11.437772</td>\n",
       "      <td>0.044479</td>\n",
       "      <td>0.147818</td>\n",
       "      <td>5.014144</td>\n",
       "      <td>5.653656</td>\n",
       "    </tr>\n",
       "    <tr>\n",
       "      <th>4</th>\n",
       "      <td>4</td>\n",
       "      <td>116.0</td>\n",
       "      <td>9.577996</td>\n",
       "      <td>11.6</td>\n",
       "      <td>4.8</td>\n",
       "      <td>24.988133</td>\n",
       "      <td>11.82448</td>\n",
       "      <td>2.766</td>\n",
       "      <td>1.682</td>\n",
       "      <td>0.896</td>\n",
       "      <td>...</td>\n",
       "      <td>1.86481</td>\n",
       "      <td>6.0</td>\n",
       "      <td>0.938451</td>\n",
       "      <td>0.219524</td>\n",
       "      <td>0.106433</td>\n",
       "      <td>12.317216</td>\n",
       "      <td>0.039106</td>\n",
       "      <td>0.133492</td>\n",
       "      <td>5.051867</td>\n",
       "      <td>5.270324</td>\n",
       "    </tr>\n",
       "  </tbody>\n",
       "</table>\n",
       "<p>5 rows × 21 columns</p>\n",
       "</div>"
      ],
      "text/plain": [
       "   id  allelectrons_Total  density_Total  allelectrons_Average  val_e_Average  \\\n",
       "0   0               100.0       0.841611                  10.0            4.8   \n",
       "1   1               100.0       7.558488                  10.0            4.8   \n",
       "2   2                76.0       8.885992                  15.6            5.6   \n",
       "3   3               100.0       8.795296                  10.0            4.8   \n",
       "4   4               116.0       9.577996                  11.6            4.8   \n",
       "\n",
       "   atomicweight_Average  ionenergy_Average  el_neg_chi_Average  \\\n",
       "0             20.612526           11.08810               2.766   \n",
       "1             20.298893           12.04083               2.755   \n",
       "2             33.739258           12.08630               2.828   \n",
       "3             20.213349           10.94850               2.648   \n",
       "4             24.988133           11.82448               2.766   \n",
       "\n",
       "   R_vdw_element_Average  R_cov_element_Average  ...  density_Average  \\\n",
       "0                  1.732                  0.860  ...          0.91457   \n",
       "1                  1.631                  0.910  ...          0.71760   \n",
       "2                  1.788                  0.864  ...          1.50633   \n",
       "3                  1.626                  0.936  ...          0.78937   \n",
       "4                  1.682                  0.896  ...          1.86481   \n",
       "\n",
       "   Hardness     feat1     feat2     feat3      feat4     feat5     feat6  \\\n",
       "0       6.0  1.008009  0.251455  0.127981  11.584170  0.045097  0.157455   \n",
       "1       6.5  1.094621  0.250455  0.129349  12.533549  0.044793  0.148273   \n",
       "2       2.5  0.728090  0.170361  0.081406  12.567778  0.029005  0.107711   \n",
       "3       6.0  0.995318  0.240727  0.124827  11.437772  0.044479  0.147818   \n",
       "4       6.0  0.938451  0.219524  0.106433  12.317216  0.039106  0.133492   \n",
       "\n",
       "   Hardness_linreg  Hardness_xgb  \n",
       "0         5.480976      5.820466  \n",
       "1         5.040213      5.214417  \n",
       "2         5.318907      4.107006  \n",
       "3         5.014144      5.653656  \n",
       "4         5.051867      5.270324  \n",
       "\n",
       "[5 rows x 21 columns]"
      ]
     },
     "execution_count": 82,
     "metadata": {},
     "output_type": "execute_result"
    }
   ],
   "source": [
    "train.head()"
   ]
  },
  {
   "cell_type": "code",
   "execution_count": 83,
   "metadata": {
    "execution": {
     "iopub.execute_input": "2023-12-11T14:22:06.112229Z",
     "iopub.status.busy": "2023-12-11T14:22:06.111064Z",
     "iopub.status.idle": "2023-12-11T14:22:06.130470Z",
     "shell.execute_reply": "2023-12-11T14:22:06.129343Z",
     "shell.execute_reply.started": "2023-12-11T14:22:06.112164Z"
    }
   },
   "outputs": [],
   "source": [
    "X = train.drop(columns=['id', 'Hardness'])\n",
    "y = train['Hardness']"
   ]
  },
  {
   "cell_type": "code",
   "execution_count": 84,
   "metadata": {
    "execution": {
     "iopub.execute_input": "2023-12-11T14:22:15.955033Z",
     "iopub.status.busy": "2023-12-11T14:22:15.953863Z",
     "iopub.status.idle": "2023-12-11T14:22:15.970510Z",
     "shell.execute_reply": "2023-12-11T14:22:15.969030Z",
     "shell.execute_reply.started": "2023-12-11T14:22:15.954976Z"
    }
   },
   "outputs": [],
   "source": [
    "X_train, X_test, y_train, y_test = train_test_split(X, y, test_size=0.2, shuffle=True, random_state=0)"
   ]
  },
  {
   "cell_type": "code",
   "execution_count": 85,
   "metadata": {
    "execution": {
     "iopub.execute_input": "2023-12-11T14:22:26.108186Z",
     "iopub.status.busy": "2023-12-11T14:22:26.107588Z",
     "iopub.status.idle": "2023-12-11T14:22:26.792051Z",
     "shell.execute_reply": "2023-12-11T14:22:26.791006Z",
     "shell.execute_reply.started": "2023-12-11T14:22:26.108145Z"
    }
   },
   "outputs": [],
   "source": [
    "layer = Normalization()\n",
    "layer.adapt(X_train)\n",
    "input_size = X_train.shape[1]"
   ]
  },
  {
   "cell_type": "code",
   "execution_count": 86,
   "metadata": {
    "execution": {
     "iopub.execute_input": "2023-12-11T14:22:48.970382Z",
     "iopub.status.busy": "2023-12-11T14:22:48.969427Z",
     "iopub.status.idle": "2023-12-11T14:22:49.103448Z",
     "shell.execute_reply": "2023-12-11T14:22:49.102171Z",
     "shell.execute_reply.started": "2023-12-11T14:22:48.970333Z"
    }
   },
   "outputs": [],
   "source": [
    "model = Sequential()\n",
    "model.add(Input(shape=(input_size,)))\n",
    "model.add(BatchNormalization())\n",
    "model.add(Dense(16, activation='relu'))\n",
    "model.add(BatchNormalization())\n",
    "model.add(Dense(32, activation='relu'))\n",
    "model.add(BatchNormalization())\n",
    "model.add(Dense(1))"
   ]
  },
  {
   "cell_type": "code",
   "execution_count": 87,
   "metadata": {
    "execution": {
     "iopub.execute_input": "2023-12-11T14:23:09.449785Z",
     "iopub.status.busy": "2023-12-11T14:23:09.448825Z",
     "iopub.status.idle": "2023-12-11T14:23:09.465573Z",
     "shell.execute_reply": "2023-12-11T14:23:09.464210Z",
     "shell.execute_reply.started": "2023-12-11T14:23:09.449734Z"
    }
   },
   "outputs": [],
   "source": [
    "model.compile(optimizer ='adam', loss= 'mean_absolute_error')"
   ]
  },
  {
   "cell_type": "code",
   "execution_count": 88,
   "metadata": {
    "execution": {
     "iopub.execute_input": "2023-12-11T14:23:22.209718Z",
     "iopub.status.busy": "2023-12-11T14:23:22.208420Z",
     "iopub.status.idle": "2023-12-11T14:23:22.216100Z",
     "shell.execute_reply": "2023-12-11T14:23:22.214901Z",
     "shell.execute_reply.started": "2023-12-11T14:23:22.209628Z"
    }
   },
   "outputs": [],
   "source": [
    "from tensorflow.keras.callbacks import EarlyStopping, ReduceLROnPlateau"
   ]
  },
  {
   "cell_type": "code",
   "execution_count": 89,
   "metadata": {
    "execution": {
     "iopub.execute_input": "2023-12-11T14:25:49.102921Z",
     "iopub.status.busy": "2023-12-11T14:25:49.102424Z",
     "iopub.status.idle": "2023-12-11T14:25:49.110068Z",
     "shell.execute_reply": "2023-12-11T14:25:49.108680Z",
     "shell.execute_reply.started": "2023-12-11T14:25:49.102887Z"
    }
   },
   "outputs": [],
   "source": [
    "monitor_loss = EarlyStopping(monitor='val_loss', patience=10)\n",
    "reduction = ReduceLROnPlateau(monitor='val_loss',factor=0.9, patience=3, min_lr=0.00001)"
   ]
  },
  {
   "cell_type": "code",
   "execution_count": 90,
   "metadata": {
    "execution": {
     "iopub.execute_input": "2023-12-11T14:25:58.963994Z",
     "iopub.status.busy": "2023-12-11T14:25:58.963519Z",
     "iopub.status.idle": "2023-12-11T14:26:14.088689Z",
     "shell.execute_reply": "2023-12-11T14:26:14.087447Z",
     "shell.execute_reply.started": "2023-12-11T14:25:58.963954Z"
    }
   },
   "outputs": [
    {
     "name": "stdout",
     "output_type": "stream",
     "text": [
      "Epoch 1/100\n",
      "53/53 [==============================] - 2s 7ms/step - loss: 4.4631 - val_loss: 7.0281 - lr: 0.0010\n",
      "Epoch 2/100\n",
      "53/53 [==============================] - 0s 4ms/step - loss: 3.8627 - val_loss: 5.5225 - lr: 0.0010\n",
      "Epoch 3/100\n",
      "53/53 [==============================] - 0s 4ms/step - loss: 2.9176 - val_loss: 2.7595 - lr: 0.0010\n",
      "Epoch 4/100\n",
      "53/53 [==============================] - 0s 3ms/step - loss: 1.7927 - val_loss: 1.3721 - lr: 0.0010\n",
      "Epoch 5/100\n",
      "53/53 [==============================] - 0s 4ms/step - loss: 1.1038 - val_loss: 1.1545 - lr: 0.0010\n",
      "Epoch 6/100\n",
      "53/53 [==============================] - 0s 3ms/step - loss: 0.9533 - val_loss: 0.9446 - lr: 0.0010\n",
      "Epoch 7/100\n",
      "53/53 [==============================] - 0s 3ms/step - loss: 0.9166 - val_loss: 0.9131 - lr: 0.0010\n",
      "Epoch 8/100\n",
      "53/53 [==============================] - 0s 3ms/step - loss: 0.8879 - val_loss: 0.8610 - lr: 0.0010\n",
      "Epoch 9/100\n",
      "53/53 [==============================] - 0s 3ms/step - loss: 0.8816 - val_loss: 0.8469 - lr: 0.0010\n",
      "Epoch 10/100\n",
      "53/53 [==============================] - 0s 3ms/step - loss: 0.8738 - val_loss: 0.8417 - lr: 0.0010\n",
      "Epoch 11/100\n",
      "53/53 [==============================] - 0s 3ms/step - loss: 0.8576 - val_loss: 0.8408 - lr: 0.0010\n",
      "Epoch 12/100\n",
      "53/53 [==============================] - 0s 3ms/step - loss: 0.8516 - val_loss: 0.8391 - lr: 0.0010\n",
      "Epoch 13/100\n",
      "53/53 [==============================] - 0s 3ms/step - loss: 0.8408 - val_loss: 0.8330 - lr: 0.0010\n",
      "Epoch 14/100\n",
      "53/53 [==============================] - 0s 4ms/step - loss: 0.8386 - val_loss: 0.8376 - lr: 0.0010\n",
      "Epoch 15/100\n",
      "53/53 [==============================] - 0s 3ms/step - loss: 0.8323 - val_loss: 0.8386 - lr: 0.0010\n",
      "Epoch 16/100\n",
      "53/53 [==============================] - 0s 4ms/step - loss: 0.8284 - val_loss: 0.8655 - lr: 0.0010\n",
      "Epoch 17/100\n",
      "53/53 [==============================] - 0s 3ms/step - loss: 0.8200 - val_loss: 0.8293 - lr: 9.0000e-04\n",
      "Epoch 18/100\n",
      "53/53 [==============================] - 0s 3ms/step - loss: 0.8178 - val_loss: 0.8279 - lr: 9.0000e-04\n",
      "Epoch 19/100\n",
      "53/53 [==============================] - 0s 3ms/step - loss: 0.8120 - val_loss: 0.8242 - lr: 9.0000e-04\n",
      "Epoch 20/100\n",
      "53/53 [==============================] - 0s 4ms/step - loss: 0.8079 - val_loss: 0.8137 - lr: 9.0000e-04\n",
      "Epoch 21/100\n",
      "53/53 [==============================] - 0s 3ms/step - loss: 0.8068 - val_loss: 0.8205 - lr: 9.0000e-04\n",
      "Epoch 22/100\n",
      "53/53 [==============================] - 0s 3ms/step - loss: 0.8076 - val_loss: 0.8177 - lr: 9.0000e-04\n",
      "Epoch 23/100\n",
      "53/53 [==============================] - 0s 4ms/step - loss: 0.8052 - val_loss: 0.8192 - lr: 9.0000e-04\n",
      "Epoch 24/100\n",
      "53/53 [==============================] - 0s 3ms/step - loss: 0.8060 - val_loss: 0.8158 - lr: 8.1000e-04\n",
      "Epoch 25/100\n",
      "53/53 [==============================] - 0s 3ms/step - loss: 0.8080 - val_loss: 0.8201 - lr: 8.1000e-04\n",
      "Epoch 26/100\n",
      "53/53 [==============================] - 0s 3ms/step - loss: 0.7985 - val_loss: 0.8115 - lr: 8.1000e-04\n",
      "Epoch 27/100\n",
      "53/53 [==============================] - 0s 3ms/step - loss: 0.7994 - val_loss: 0.8061 - lr: 8.1000e-04\n",
      "Epoch 28/100\n",
      "53/53 [==============================] - 0s 3ms/step - loss: 0.8019 - val_loss: 0.8221 - lr: 8.1000e-04\n",
      "Epoch 29/100\n",
      "53/53 [==============================] - 0s 4ms/step - loss: 0.7958 - val_loss: 0.8102 - lr: 8.1000e-04\n",
      "Epoch 30/100\n",
      "53/53 [==============================] - 0s 3ms/step - loss: 0.7939 - val_loss: 0.8072 - lr: 8.1000e-04\n",
      "Epoch 31/100\n",
      "53/53 [==============================] - 0s 3ms/step - loss: 0.7941 - val_loss: 0.8086 - lr: 7.2900e-04\n",
      "Epoch 32/100\n",
      "53/53 [==============================] - 0s 3ms/step - loss: 0.8010 - val_loss: 0.8273 - lr: 7.2900e-04\n",
      "Epoch 33/100\n",
      "53/53 [==============================] - 0s 4ms/step - loss: 0.7996 - val_loss: 0.8098 - lr: 7.2900e-04\n",
      "Epoch 34/100\n",
      "53/53 [==============================] - 0s 4ms/step - loss: 0.7948 - val_loss: 0.8045 - lr: 6.5610e-04\n",
      "Epoch 35/100\n",
      "53/53 [==============================] - 0s 4ms/step - loss: 0.7940 - val_loss: 0.8036 - lr: 6.5610e-04\n",
      "Epoch 36/100\n",
      "53/53 [==============================] - 0s 3ms/step - loss: 0.7933 - val_loss: 0.8135 - lr: 6.5610e-04\n",
      "Epoch 37/100\n",
      "53/53 [==============================] - 0s 4ms/step - loss: 0.7867 - val_loss: 0.8014 - lr: 6.5610e-04\n",
      "Epoch 38/100\n",
      "53/53 [==============================] - 0s 4ms/step - loss: 0.7860 - val_loss: 0.8115 - lr: 6.5610e-04\n",
      "Epoch 39/100\n",
      "53/53 [==============================] - 0s 3ms/step - loss: 0.7922 - val_loss: 0.7990 - lr: 6.5610e-04\n",
      "Epoch 40/100\n",
      "53/53 [==============================] - 0s 4ms/step - loss: 0.7870 - val_loss: 0.8012 - lr: 6.5610e-04\n",
      "Epoch 41/100\n",
      "53/53 [==============================] - 0s 4ms/step - loss: 0.7972 - val_loss: 0.8010 - lr: 6.5610e-04\n",
      "Epoch 42/100\n",
      "53/53 [==============================] - 0s 3ms/step - loss: 0.7825 - val_loss: 0.8057 - lr: 6.5610e-04\n",
      "Epoch 43/100\n",
      "53/53 [==============================] - 0s 4ms/step - loss: 0.7880 - val_loss: 0.8005 - lr: 5.9049e-04\n",
      "Epoch 44/100\n",
      "53/53 [==============================] - 0s 3ms/step - loss: 0.7891 - val_loss: 0.8008 - lr: 5.9049e-04\n",
      "Epoch 45/100\n",
      "53/53 [==============================] - 0s 3ms/step - loss: 0.7881 - val_loss: 0.8010 - lr: 5.9049e-04\n",
      "Epoch 46/100\n",
      "53/53 [==============================] - 0s 3ms/step - loss: 0.7898 - val_loss: 0.8046 - lr: 5.3144e-04\n",
      "Epoch 47/100\n",
      "53/53 [==============================] - 0s 3ms/step - loss: 0.7851 - val_loss: 0.7958 - lr: 5.3144e-04\n",
      "Epoch 48/100\n",
      "53/53 [==============================] - 0s 3ms/step - loss: 0.7850 - val_loss: 0.7967 - lr: 5.3144e-04\n",
      "Epoch 49/100\n",
      "53/53 [==============================] - 0s 3ms/step - loss: 0.7846 - val_loss: 0.7980 - lr: 5.3144e-04\n",
      "Epoch 50/100\n",
      "53/53 [==============================] - 0s 4ms/step - loss: 0.7836 - val_loss: 0.7975 - lr: 5.3144e-04\n",
      "Epoch 51/100\n",
      "53/53 [==============================] - 0s 4ms/step - loss: 0.7836 - val_loss: 0.8004 - lr: 4.7830e-04\n",
      "Epoch 52/100\n",
      "53/53 [==============================] - 0s 3ms/step - loss: 0.7803 - val_loss: 0.8048 - lr: 4.7830e-04\n",
      "Epoch 53/100\n",
      "53/53 [==============================] - 0s 4ms/step - loss: 0.7840 - val_loss: 0.7973 - lr: 4.7830e-04\n",
      "Epoch 54/100\n",
      "53/53 [==============================] - 0s 6ms/step - loss: 0.7794 - val_loss: 0.8023 - lr: 4.3047e-04\n",
      "Epoch 55/100\n",
      "53/53 [==============================] - 0s 4ms/step - loss: 0.7822 - val_loss: 0.7955 - lr: 4.3047e-04\n",
      "Epoch 56/100\n",
      "53/53 [==============================] - 0s 4ms/step - loss: 0.7843 - val_loss: 0.8020 - lr: 4.3047e-04\n",
      "Epoch 57/100\n",
      "53/53 [==============================] - 0s 3ms/step - loss: 0.7803 - val_loss: 0.7957 - lr: 4.3047e-04\n",
      "Epoch 58/100\n",
      "53/53 [==============================] - 0s 4ms/step - loss: 0.7785 - val_loss: 0.7939 - lr: 4.3047e-04\n",
      "Epoch 59/100\n",
      "53/53 [==============================] - 0s 3ms/step - loss: 0.7764 - val_loss: 0.7956 - lr: 4.3047e-04\n",
      "Epoch 60/100\n",
      "53/53 [==============================] - 0s 3ms/step - loss: 0.7760 - val_loss: 0.7947 - lr: 4.3047e-04\n",
      "Epoch 61/100\n",
      "53/53 [==============================] - 0s 3ms/step - loss: 0.7835 - val_loss: 0.7959 - lr: 4.3047e-04\n",
      "Epoch 62/100\n",
      "53/53 [==============================] - 0s 4ms/step - loss: 0.7741 - val_loss: 0.7940 - lr: 3.8742e-04\n",
      "Epoch 63/100\n",
      "53/53 [==============================] - 0s 4ms/step - loss: 0.7816 - val_loss: 0.7958 - lr: 3.8742e-04\n",
      "Epoch 64/100\n",
      "53/53 [==============================] - 0s 4ms/step - loss: 0.7792 - val_loss: 0.7978 - lr: 3.8742e-04\n",
      "Epoch 65/100\n",
      "53/53 [==============================] - 0s 4ms/step - loss: 0.7798 - val_loss: 0.7971 - lr: 3.4868e-04\n",
      "Epoch 66/100\n",
      "53/53 [==============================] - 0s 3ms/step - loss: 0.7758 - val_loss: 0.7969 - lr: 3.4868e-04\n",
      "Epoch 67/100\n",
      "53/53 [==============================] - 0s 3ms/step - loss: 0.7791 - val_loss: 0.7996 - lr: 3.4868e-04\n",
      "Epoch 68/100\n",
      "53/53 [==============================] - 0s 3ms/step - loss: 0.7724 - val_loss: 0.7947 - lr: 3.1381e-04\n"
     ]
    }
   ],
   "source": [
    "history = model.fit(X_train, y_train, epochs=100, batch_size=128, validation_split=0.2, callbacks=[monitor_loss, reduction])"
   ]
  },
  {
   "cell_type": "code",
   "execution_count": 91,
   "metadata": {
    "execution": {
     "iopub.execute_input": "2023-12-11T14:27:19.707606Z",
     "iopub.status.busy": "2023-12-11T14:27:19.707153Z",
     "iopub.status.idle": "2023-12-11T14:27:22.828300Z",
     "shell.execute_reply": "2023-12-11T14:27:22.827155Z",
     "shell.execute_reply.started": "2023-12-11T14:27:19.707572Z"
    }
   },
   "outputs": [
    {
     "name": "stdout",
     "output_type": "stream",
     "text": [
      "66/66 [==============================] - 0s 2ms/step - loss: 0.8150\n"
     ]
    },
    {
     "data": {
      "text/plain": [
       "0.8149844408035278"
      ]
     },
     "execution_count": 91,
     "metadata": {},
     "output_type": "execute_result"
    }
   ],
   "source": [
    "model.evaluate(X_test, y_test)"
   ]
  },
  {
   "cell_type": "code",
   "execution_count": 92,
   "metadata": {
    "execution": {
     "iopub.execute_input": "2023-12-11T14:27:54.846759Z",
     "iopub.status.busy": "2023-12-11T14:27:54.846292Z",
     "iopub.status.idle": "2023-12-11T14:27:54.954776Z",
     "shell.execute_reply": "2023-12-11T14:27:54.953511Z",
     "shell.execute_reply.started": "2023-12-11T14:27:54.846724Z"
    }
   },
   "outputs": [],
   "source": [
    "pred_data = test.drop(columns=['id'])\n",
    "test['Hardness_linreg'] = regression.predict(pred_data)\n",
    "test['Hardness_xgb'] = xgb_rr.predict(pred_data)"
   ]
  },
  {
   "cell_type": "code",
   "execution_count": 93,
   "metadata": {
    "execution": {
     "iopub.execute_input": "2023-12-11T14:28:04.414506Z",
     "iopub.status.busy": "2023-12-11T14:28:04.413654Z",
     "iopub.status.idle": "2023-12-11T14:28:05.235216Z",
     "shell.execute_reply": "2023-12-11T14:28:05.233887Z",
     "shell.execute_reply.started": "2023-12-11T14:28:04.414460Z"
    }
   },
   "outputs": [
    {
     "name": "stdout",
     "output_type": "stream",
     "text": [
      "217/217 [==============================] - 0s 1ms/step\n"
     ]
    },
    {
     "data": {
      "text/html": [
       "<div>\n",
       "<style scoped>\n",
       "    .dataframe tbody tr th:only-of-type {\n",
       "        vertical-align: middle;\n",
       "    }\n",
       "\n",
       "    .dataframe tbody tr th {\n",
       "        vertical-align: top;\n",
       "    }\n",
       "\n",
       "    .dataframe thead th {\n",
       "        text-align: right;\n",
       "    }\n",
       "</style>\n",
       "<table border=\"1\" class=\"dataframe\">\n",
       "  <thead>\n",
       "    <tr style=\"text-align: right;\">\n",
       "      <th></th>\n",
       "      <th>id</th>\n",
       "      <th>Hardness</th>\n",
       "    </tr>\n",
       "  </thead>\n",
       "  <tbody>\n",
       "    <tr>\n",
       "      <th>0</th>\n",
       "      <td>10407</td>\n",
       "      <td>2.154061</td>\n",
       "    </tr>\n",
       "    <tr>\n",
       "      <th>1</th>\n",
       "      <td>10408</td>\n",
       "      <td>2.495659</td>\n",
       "    </tr>\n",
       "    <tr>\n",
       "      <th>2</th>\n",
       "      <td>10409</td>\n",
       "      <td>5.886238</td>\n",
       "    </tr>\n",
       "    <tr>\n",
       "      <th>3</th>\n",
       "      <td>10410</td>\n",
       "      <td>3.777575</td>\n",
       "    </tr>\n",
       "    <tr>\n",
       "      <th>4</th>\n",
       "      <td>10411</td>\n",
       "      <td>4.827731</td>\n",
       "    </tr>\n",
       "  </tbody>\n",
       "</table>\n",
       "</div>"
      ],
      "text/plain": [
       "      id  Hardness\n",
       "0  10407  2.154061\n",
       "1  10408  2.495659\n",
       "2  10409  5.886238\n",
       "3  10410  3.777575\n",
       "4  10411  4.827731"
      ]
     },
     "execution_count": 93,
     "metadata": {},
     "output_type": "execute_result"
    }
   ],
   "source": [
    "preds = model.predict(test.drop(columns = ['id']))\n",
    "submission_overkill = pd.DataFrame({\n",
    "    'id':test['id'],\n",
    "    'Hardness':preds.flatten()\n",
    "})\n",
    "submission_overkill.head()"
   ]
  },
  {
   "cell_type": "code",
   "execution_count": 94,
   "metadata": {
    "execution": {
     "iopub.execute_input": "2023-12-11T14:28:33.524106Z",
     "iopub.status.busy": "2023-12-11T14:28:33.522644Z",
     "iopub.status.idle": "2023-12-11T14:28:33.560686Z",
     "shell.execute_reply": "2023-12-11T14:28:33.559545Z",
     "shell.execute_reply.started": "2023-12-11T14:28:33.524058Z"
    }
   },
   "outputs": [],
   "source": [
    "submission_overkill.to_csv('submission.csv', index=False)"
   ]
  },
  {
   "cell_type": "code",
   "execution_count": null,
   "metadata": {},
   "outputs": [],
   "source": []
  }
 ],
 "metadata": {
  "kaggle": {
   "accelerator": "none",
   "dataSources": [
    {
     "databundleVersionId": 6989718,
     "sourceId": 60892,
     "sourceType": "competition"
    }
   ],
   "dockerImageVersionId": 30615,
   "isGpuEnabled": false,
   "isInternetEnabled": true,
   "language": "python",
   "sourceType": "notebook"
  },
  "kernelspec": {
   "display_name": "Python 3 (ipykernel)",
   "language": "python",
   "name": "python3"
  },
  "language_info": {
   "codemirror_mode": {
    "name": "ipython",
    "version": 3
   },
   "file_extension": ".py",
   "mimetype": "text/x-python",
   "name": "python",
   "nbconvert_exporter": "python",
   "pygments_lexer": "ipython3",
   "version": "3.11.3"
  }
 },
 "nbformat": 4,
 "nbformat_minor": 4
}
